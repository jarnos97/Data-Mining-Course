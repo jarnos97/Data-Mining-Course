{
 "cells": [
  {
   "cell_type": "markdown",
   "metadata": {},
   "source": [
    "# Final Assignment {-}"
   ]
  },
  {
   "cell_type": "markdown",
   "metadata": {},
   "source": [
    "### Team details {-}\n",
    "Add the names of all team members and a short description of each member's contributions.   \n",
    "- TEAM MEMBER 1 = Femke Bergen - Part 1 & 3\n",
    "- TEAM MEMBER 2 = Noelle Cicilia - Part 1\n",
    "- TEAM MEMBER 3 = Kasper Raijmann - Part 4\n",
    "- TEAM MEMBER 4 = Joep Sterk  - Part 4\n",
    "- TEAM MEMBER 5 = Jens Bongaerts - Part 2\n",
    "- TEAM MEMBER 6 = Jarno Smit - Part 2 & 3"
   ]
  },
  {
   "cell_type": "markdown",
   "metadata": {},
   "source": [
    "## 1. Simple networks (20 points) {-}"
   ]
  },
  {
   "cell_type": "code",
   "execution_count": 203,
   "metadata": {},
   "outputs": [
    {
     "name": "stdout",
     "output_type": "stream",
     "text": [
      "Using Keras 2.2.5\n"
     ]
    }
   ],
   "source": [
    "import os\n",
    "import statistics\n",
    "import time\n",
    "import keras\n",
    "import numpy as np\n",
    "import matplotlib.pyplot as plt\n",
    "import pandas as pd\n",
    "from tqdm import tqdm_notebook\n",
    "from sklearn.feature_extraction.text import TfidfVectorizer\n",
    "from sklearn.feature_selection import SelectKBest, f_classif\n",
    "from preamble import *\n",
    "from tensorflow.python.keras import models\n",
    "from tensorflow.python.keras.layers import Dense, Dropout\n",
    "from keras import regularizers\n",
    "print(\"Using Keras\",keras.__version__)\n",
    "%matplotlib inline\n",
    "import warnings\n",
    "warnings.filterwarnings('ignore')\n",
    "from sklearn.metrics import confusion_matrix\n",
    "from tensorflow.keras.layers import Flatten\n",
    "from tensorflow.keras.layers import Embedding\n",
    "from gensim.models.keyedvectors import KeyedVectors\n",
    "from keras.preprocessing.text import Tokenizer, one_hot\n",
    "from keras.preprocessing.sequence import pad_sequences"
   ]
  },
  {
   "cell_type": "code",
   "execution_count": 4,
   "metadata": {},
   "outputs": [],
   "source": [
    "#copied from kaggle post 'IMDB setiments' by Arunava\n",
    "def shuffle(X, y):\n",
    "    perm = np.random.permutation(len(X))\n",
    "    X = X[perm]\n",
    "    y = y[perm]\n",
    "    return X, y"
   ]
  },
  {
   "cell_type": "code",
   "execution_count": 3,
   "metadata": {},
   "outputs": [],
   "source": [
    "#copied from kaggle post 'IMDB setiments' by Arunava\n",
    "# label 0 --> negative, label 1 --> positive\n",
    "def load_imdb_dataset():\n",
    "    imdb_path = os.path.join('imdb-movie-reviews-dataset/aclImdb/aclImdb')\n",
    "\n",
    "    # Load the dataset\n",
    "    train_texts = []\n",
    "    train_labels = []\n",
    "    test_texts = []\n",
    "    test_labels = []\n",
    "    for dset in ['train', 'test']:\n",
    "        for cat in ['pos', 'neg']:\n",
    "            dset_path = os.path.join(imdb_path, dset, cat)\n",
    "            for fname in sorted(os.listdir(dset_path)):\n",
    "                if fname.endswith('.txt'):\n",
    "                    with open(os.path.join(dset_path, fname), encoding = 'utf-8') as f:\n",
    "                        if dset == 'train': train_texts.append(f.read())\n",
    "                        else: test_texts.append(f.read())\n",
    "                    label = 0 if cat == 'neg' else 1\n",
    "                    if dset == 'train': train_labels.append(label)\n",
    "                    else: test_labels.append(label)\n",
    "\n",
    "    # Converting to np.array\n",
    "    train_texts = np.array(train_texts)\n",
    "    train_labels = np.array(train_labels)\n",
    "    test_texts = np.array(test_texts)\n",
    "    test_labels = np.array(test_labels)\n",
    "\n",
    "    # Shuffle the dataset\n",
    "    train_texts, train_labels = shuffle(train_texts, train_labels)\n",
    "    test_texts, test_labels = shuffle(test_texts, test_labels)\n",
    "\n",
    "    # Return the dataset\n",
    "    return train_texts, train_labels, test_texts, test_labels"
   ]
  },
  {
   "cell_type": "code",
   "execution_count": 204,
   "metadata": {},
   "outputs": [],
   "source": [
    "#copied from kaggle post 'IMDB setiments' by Arunava\n",
    "trX, train_Y, ttX, test_Y = load_imdb_dataset()"
   ]
  },
  {
   "cell_type": "code",
   "execution_count": 7,
   "metadata": {},
   "outputs": [
    {
     "name": "stdout",
     "output_type": "stream",
     "text": [
      "0 ========== The Perfectly Stupid Weapon. I think the guys dancing at the beginning of one of Steven Segal's movies was intented to mock Jeff doing his forms to dance music at the beginning of this stupid movie. The plot is predictable, the fights were fair and Jeff acts about as well as the sofa he beats with some sort of weapon in one scene.\n",
      "\n",
      "0 ========== In this short an urban man and his wife have their weird lives set akimbo when the man takes to wearing an old red pants suit of his mother in law's.<br /><br />I kept watching this hoping that I could see why it had been made, or why the other reviewers found it funny. For me it was a total waste of time.<br /><br />Not everyone's tastes are the same but this was clearly not to mine.\n"
     ]
    }
   ],
   "source": [
    "#positive and negative example of the reviews --> X is still text\n",
    "print(train_Y[0], '==========', trX[0])\n",
    "print('')\n",
    "print(train_Y[1], '==========', trX[1])"
   ]
  },
  {
   "cell_type": "code",
   "execution_count": 11,
   "metadata": {},
   "outputs": [],
   "source": [
    "#vectorize the text-data (X-data) with tfidf vectorize method\n",
    "vectorizer = TfidfVectorizer(min_df=2)\n",
    "x_train = vectorizer.fit_transform(trX)\n",
    "x_test = vectorizer.transform(ttX)\n",
    "\n",
    "#select 10.000 best words to use as features\n",
    "selector = SelectKBest(f_classif, k=min(10000, x_train.shape[1]))\n",
    "selector.fit(x_train, train_Y)\n",
    "\n",
    "#create final train and test data\n",
    "X_train = selector.transform(x_train).astype('float32').toarray()\n",
    "X_test = selector.transform(x_test).astype('float32').toarray()"
   ]
  },
  {
   "cell_type": "code",
   "execution_count": 8,
   "metadata": {},
   "outputs": [],
   "source": [
    "def make_model(n_hidden, hidden_size=32, input_size=16, optimizer=\"adam\", loss='binary_crossentropy',\n",
    "               regularizer = None, dropout=False, dropout_rate=0.5,\n",
    "               embedding = False, embedding_layer = 0, input_shape=(10000,)):\n",
    "    \"\"\"\n",
    "    Makes a sequential model with n_hidden layers that have size hidden_size\n",
    "    returns compiled the model with customizable optimizer, loss function, regularization, dropout and embedding.\n",
    "    \"\"\"\n",
    "    #create model\n",
    "    model = models.Sequential()\n",
    "    if embedding == True and embedding_layer == 0:\n",
    "        print(\"Please specify embedding_layer parameter\")\n",
    "    elif embedding == True:\n",
    "        model.add(embedding_layer)\n",
    "        model.add(Flatten())\n",
    "    #add input layer\n",
    "    model.add(Dense(input_size, kernel_regularizer=regularizer, activation='relu', input_shape=input_shape))\n",
    "    #add hidden layers\n",
    "    for i in range(n_hidden):\n",
    "        model.add(Dense(hidden_size, kernel_regularizer=regularizer, activation='relu'))\n",
    "        if dropout:\n",
    "            model.add(Dropout(dropout_rate))\n",
    "    #add output layer\n",
    "    model.add(Dense(1, activation='sigmoid')) #sigmoid for binary classification\n",
    "    #return compiled model\n",
    "    model.compile(optimizer=optimizer, loss=loss, metrics=[\"accuracy\"])\n",
    "    return model"
   ]
  },
  {
   "cell_type": "code",
   "execution_count": 9,
   "metadata": {},
   "outputs": [],
   "source": [
    "#mocel = model\n",
    "def NN_performance(model, Xtrain, Ytrain, Xval, Yval, n_epochs=20): \n",
    "    \"\"\"Takes in a model, train data and validation data and a customizable number of epochs.\n",
    "     Returns a dictionary with the maximum validation accuracy and the minimum validation loss with \n",
    "     their corresponding number of epochs and fit time.\"\"\"\n",
    "    start = time.process_time()\n",
    "    history = model.fit(Xtrain, Ytrain,\n",
    "                    epochs=n_epochs, batch_size=512, verbose=0,\n",
    "                    validation_data=(Xval, Yval))\n",
    "    \n",
    "    train_time = time.process_time() - start\n",
    "    \n",
    "    acc = history.history['accuracy']\n",
    "    val_acc = history.history['val_accuracy']\n",
    "    loss = history.history['loss']\n",
    "    val_loss = history.history['val_loss']\n",
    " \n",
    "    return {'Max_val_acc' : max(val_acc), \n",
    "            'Max_val_acc_epochs' : np.argmax(val_acc)+1, \n",
    "            'Min_val_loss' : min(val_loss), \n",
    "            'Min_val_loss_epochs' : np.argmin(val_loss)+1,\n",
    "            'train_time':train_time}"
   ]
  },
  {
   "cell_type": "code",
   "execution_count": 11,
   "metadata": {},
   "outputs": [],
   "source": [
    "def NN_performance_df(Xtrain, Ytrain, max_hidden = 3, n_epochs=20):\n",
    "    \"\"\"Takes training data, customizable number of midden layers to test for and a customizable number of epochs to test for.\n",
    "    Returns a dataframe with multi-index number of hidden layers (1,2,3) & hidden layer size (16, 32, 64, 128)\n",
    "    and their corresponding outcome of NN_performance function\"\"\"    \n",
    "    #split the data\n",
    "    x_val, partial_x_train = Xtrain[:10000], Xtrain[10000:]\n",
    "    y_val, partial_y_train = Ytrain[:10000], Ytrain[10000:]\n",
    "    \n",
    "    performance_dict = {}\n",
    "    \n",
    "    #loop over different hyperparameter options\n",
    "    for nhid in tqdm_notebook(range(max_hidden)):\n",
    "        for hid_size in [4, 8, 16, 32, 64]:\n",
    "            model = make_model(nhid+1, hidden_size=hid_size, optimizer='rmsprop', loss='binary_crossentropy')\n",
    "            #fill performance dict with validation accuracy and loss scores + corresponding epochs\n",
    "            performance_dict[(nhid+1, hid_size)] = NN_performance(model, partial_x_train, partial_y_train, x_val, y_val)   \n",
    "    \n",
    "    performance_df = pd.DataFrame.from_dict(performance_dict, orient='index')\n",
    "    return performance_df"
   ]
  },
  {
   "cell_type": "code",
   "execution_count": 12,
   "metadata": {},
   "outputs": [],
   "source": [
    "def plot_epochs(epochs, y_1, y_2, label_1, label_2, title, y_title):\n",
    "    \"\"\"epochs: list/array with all the epochs\n",
    "    y_1: list/array with scoring per epoch (e.g. (validation) loss/accuracy of original/regularized model\n",
    "    y_2: same options as y_1)\n",
    "    --> y_1 and y_2 should have the same metrics (either loss or acuracy)\n",
    "    label_1: string, what you plot in y_1\n",
    "    label_2: string, what you plot in y_2\n",
    "    title: string\n",
    "    \"\"\"\n",
    "    #PLOT epochs vs loss or acuracy\n",
    "    # \"bo\" is for \"blue dot\"\n",
    "    plt.plot(epochs, y_1, 'bo', label=label_1)\n",
    "    # b is for \"solid blue line\"\n",
    "    plt.plot(epochs, y_2, 'b', label=label_2)\n",
    "    plt.title(title)\n",
    "    plt.xlabel('Epochs')\n",
    "    plt.ylabel(y_title)\n",
    "    plt.legend()\n",
    "    plt.show()"
   ]
  },
  {
   "cell_type": "code",
   "execution_count": 13,
   "metadata": {},
   "outputs": [],
   "source": [
    "def scores(model, epochs, x_train, y_train, x_val, y_val):\n",
    "    \"\"\"takes a NN model, number of epochs and train and validation data. \n",
    "    Returns train and validation accuracy and loss and a list with epochs\"\"\"\n",
    "    history = model.fit(x_train, y_train,\n",
    "                    epochs=epochs, batch_size=512, verbose=0,\n",
    "                    validation_data=(x_val, y_val))\n",
    "    train_acc = history.history['accuracy']\n",
    "    val_acc = history.history['val_accuracy']\n",
    "    train_loss = history.history['loss']\n",
    "    val_loss = history.history['val_loss']\n",
    "    epochs = range(1, len(train_acc) + 1)\n",
    "    return history, train_acc, val_acc, train_loss, val_loss, epochs  "
   ]
  },
  {
   "cell_type": "code",
   "execution_count": 22,
   "metadata": {},
   "outputs": [
    {
     "data": {
      "application/vnd.jupyter.widget-view+json": {
       "model_id": "b1898a466834425f8e26a7fe76f4bb7f",
       "version_major": 2,
       "version_minor": 0
      },
      "text/plain": [
       "HBox(children=(IntProgress(value=0, max=3), HTML(value='')))"
      ]
     },
     "metadata": {},
     "output_type": "display_data"
    },
    {
     "name": "stderr",
     "output_type": "stream",
     "text": [
      "WARNING: Logging before flag parsing goes to stderr.\n",
      "W1118 19:52:14.772710  8484 deprecation.py:323] From C:\\Users\\jarno\\Anaconda3\\lib\\site-packages\\tensorflow_core\\python\\ops\\nn_impl.py:183: where (from tensorflow.python.ops.array_ops) is deprecated and will be removed in a future version.\n",
      "Instructions for updating:\n",
      "Use tf.where in 2.0, which has the same broadcast rule as np.where\n"
     ]
    },
    {
     "name": "stdout",
     "output_type": "stream",
     "text": [
      "\n",
      "Number of hidden layers, Number of nodes in hidden layers\n"
     ]
    },
    {
     "data": {
      "text/html": [
       "<div>\n",
       "<style scoped>\n",
       "    .dataframe tbody tr th:only-of-type {\n",
       "        vertical-align: middle;\n",
       "    }\n",
       "\n",
       "    .dataframe tbody tr th {\n",
       "        vertical-align: top;\n",
       "    }\n",
       "\n",
       "    .dataframe thead th {\n",
       "        text-align: right;\n",
       "    }\n",
       "</style>\n",
       "<table border=\"1\" class=\"dataframe\">\n",
       "  <thead>\n",
       "    <tr style=\"text-align: right;\">\n",
       "      <th></th>\n",
       "      <th></th>\n",
       "      <th>Max_val_acc</th>\n",
       "      <th>Max_val_acc_epochs</th>\n",
       "      <th>Min_val_loss</th>\n",
       "      <th>Min_val_loss_epochs</th>\n",
       "      <th>train_time</th>\n",
       "    </tr>\n",
       "  </thead>\n",
       "  <tbody>\n",
       "    <tr>\n",
       "      <th rowspan=\"5\" valign=\"top\">1</th>\n",
       "      <th>4</th>\n",
       "      <td>0.91</td>\n",
       "      <td>14</td>\n",
       "      <td>0.22</td>\n",
       "      <td>14</td>\n",
       "      <td>59.19</td>\n",
       "    </tr>\n",
       "    <tr>\n",
       "      <th>8</th>\n",
       "      <td>0.91</td>\n",
       "      <td>14</td>\n",
       "      <td>0.22</td>\n",
       "      <td>13</td>\n",
       "      <td>59.48</td>\n",
       "    </tr>\n",
       "    <tr>\n",
       "      <th>16</th>\n",
       "      <td>0.91</td>\n",
       "      <td>14</td>\n",
       "      <td>0.24</td>\n",
       "      <td>14</td>\n",
       "      <td>58.66</td>\n",
       "    </tr>\n",
       "    <tr>\n",
       "      <th>32</th>\n",
       "      <td>0.91</td>\n",
       "      <td>9</td>\n",
       "      <td>0.22</td>\n",
       "      <td>9</td>\n",
       "      <td>61.14</td>\n",
       "    </tr>\n",
       "    <tr>\n",
       "      <th>64</th>\n",
       "      <td>0.91</td>\n",
       "      <td>9</td>\n",
       "      <td>0.22</td>\n",
       "      <td>8</td>\n",
       "      <td>59.16</td>\n",
       "    </tr>\n",
       "    <tr>\n",
       "      <th rowspan=\"5\" valign=\"top\">2</th>\n",
       "      <th>4</th>\n",
       "      <td>0.91</td>\n",
       "      <td>18</td>\n",
       "      <td>0.22</td>\n",
       "      <td>17</td>\n",
       "      <td>57.66</td>\n",
       "    </tr>\n",
       "    <tr>\n",
       "      <th>8</th>\n",
       "      <td>0.91</td>\n",
       "      <td>14</td>\n",
       "      <td>0.22</td>\n",
       "      <td>14</td>\n",
       "      <td>63.23</td>\n",
       "    </tr>\n",
       "    <tr>\n",
       "      <th>16</th>\n",
       "      <td>0.91</td>\n",
       "      <td>5</td>\n",
       "      <td>0.23</td>\n",
       "      <td>7</td>\n",
       "      <td>63.08</td>\n",
       "    </tr>\n",
       "    <tr>\n",
       "      <th>32</th>\n",
       "      <td>0.91</td>\n",
       "      <td>4</td>\n",
       "      <td>0.23</td>\n",
       "      <td>4</td>\n",
       "      <td>61.39</td>\n",
       "    </tr>\n",
       "    <tr>\n",
       "      <th>64</th>\n",
       "      <td>0.91</td>\n",
       "      <td>4</td>\n",
       "      <td>0.22</td>\n",
       "      <td>4</td>\n",
       "      <td>59.81</td>\n",
       "    </tr>\n",
       "    <tr>\n",
       "      <th rowspan=\"5\" valign=\"top\">3</th>\n",
       "      <th>4</th>\n",
       "      <td>0.91</td>\n",
       "      <td>14</td>\n",
       "      <td>0.24</td>\n",
       "      <td>15</td>\n",
       "      <td>58.89</td>\n",
       "    </tr>\n",
       "    <tr>\n",
       "      <th>8</th>\n",
       "      <td>0.91</td>\n",
       "      <td>8</td>\n",
       "      <td>0.25</td>\n",
       "      <td>8</td>\n",
       "      <td>62.02</td>\n",
       "    </tr>\n",
       "    <tr>\n",
       "      <th>16</th>\n",
       "      <td>0.91</td>\n",
       "      <td>5</td>\n",
       "      <td>0.22</td>\n",
       "      <td>5</td>\n",
       "      <td>60.53</td>\n",
       "    </tr>\n",
       "    <tr>\n",
       "      <th>32</th>\n",
       "      <td>0.91</td>\n",
       "      <td>3</td>\n",
       "      <td>0.23</td>\n",
       "      <td>4</td>\n",
       "      <td>61.02</td>\n",
       "    </tr>\n",
       "    <tr>\n",
       "      <th>64</th>\n",
       "      <td>0.91</td>\n",
       "      <td>3</td>\n",
       "      <td>0.22</td>\n",
       "      <td>3</td>\n",
       "      <td>59.58</td>\n",
       "    </tr>\n",
       "  </tbody>\n",
       "</table>\n",
       "</div>"
      ],
      "text/plain": [
       "      Max_val_acc  Max_val_acc_epochs  Min_val_loss  Min_val_loss_epochs  \\\n",
       "1 4          0.91                  14          0.22                   14   \n",
       "  8          0.91                  14          0.22                   13   \n",
       "  16         0.91                  14          0.24                   14   \n",
       "  32         0.91                   9          0.22                    9   \n",
       "  64         0.91                   9          0.22                    8   \n",
       "2 4          0.91                  18          0.22                   17   \n",
       "  8          0.91                  14          0.22                   14   \n",
       "  16         0.91                   5          0.23                    7   \n",
       "  32         0.91                   4          0.23                    4   \n",
       "  64         0.91                   4          0.22                    4   \n",
       "3 4          0.91                  14          0.24                   15   \n",
       "  8          0.91                   8          0.25                    8   \n",
       "  16         0.91                   5          0.22                    5   \n",
       "  32         0.91                   3          0.23                    4   \n",
       "  64         0.91                   3          0.22                    3   \n",
       "\n",
       "      train_time  \n",
       "1 4        59.19  \n",
       "  8        59.48  \n",
       "  16       58.66  \n",
       "  32       61.14  \n",
       "  64       59.16  \n",
       "2 4        57.66  \n",
       "  8        63.23  \n",
       "  16       63.08  \n",
       "  32       61.39  \n",
       "  64       59.81  \n",
       "3 4        58.89  \n",
       "  8        62.02  \n",
       "  16       60.53  \n",
       "  32       61.02  \n",
       "  64       59.58  "
      ]
     },
     "execution_count": 22,
     "metadata": {},
     "output_type": "execute_result"
    }
   ],
   "source": [
    "#print the \n",
    "NN_performance_df(X_train, train_Y)"
   ]
  },
  {
   "cell_type": "code",
   "execution_count": 23,
   "metadata": {},
   "outputs": [],
   "source": [
    "# split train data in train and validation data\n",
    "x_val, partial_x_train = X_train[:10000], X_train[10000:]\n",
    "y_val, partial_y_train = train_Y[:10000], train_Y[10000:]"
   ]
  },
  {
   "cell_type": "code",
   "execution_count": 24,
   "metadata": {},
   "outputs": [
    {
     "name": "stdout",
     "output_type": "stream",
     "text": [
      "5004\n",
      "4996\n"
     ]
    }
   ],
   "source": [
    "# almost balanced train & validation sets\n",
    "print((y_val == 0).sum())\n",
    "print((y_val == 1).sum())"
   ]
  },
  {
   "cell_type": "code",
   "execution_count": 25,
   "metadata": {},
   "outputs": [],
   "source": [
    "#some global variables\n",
    "nr_of_epochs = 40\n",
    "n_hidden = 1\n",
    "hidden_size = 8"
   ]
  },
  {
   "cell_type": "code",
   "execution_count": 26,
   "metadata": {},
   "outputs": [],
   "source": [
    "# make model with best hyperparameter settings, judged from NN_performance dataframe\n",
    "original_model = make_model(n_hidden=n_hidden, hidden_size=hidden_size)"
   ]
  },
  {
   "cell_type": "code",
   "execution_count": 27,
   "metadata": {},
   "outputs": [],
   "source": [
    "history_original, train_acc_original, val_acc_original, train_loss_original, val_loss_original, epochs = \\\n",
    "scores(original_model, nr_of_epochs, partial_x_train, partial_y_train, x_val, y_val)"
   ]
  },
  {
   "cell_type": "code",
   "execution_count": 28,
   "metadata": {},
   "outputs": [
    {
     "data": {
      "image/png": "[encoded data removed]",
      "text/plain": [
       "<Figure size 432x288 with 1 Axes>"
      ]
     },
     "metadata": {
      "needs_background": "light"
     },
     "output_type": "display_data"
    }
   ],
   "source": [
    "#PLOT epochs vs loss\n",
    "plot_epochs(epochs, train_loss_original, val_loss_original, \n",
    "            'training loss', 'validation loss', \n",
    "            'Training and validation loss', 'Loss')"
   ]
  },
  {
   "cell_type": "code",
   "execution_count": 29,
   "metadata": {},
   "outputs": [
    {
     "data": {
      "image/png": "[encoded data removed]",
      "text/plain": [
       "<Figure size 432x288 with 1 Axes>"
      ]
     },
     "metadata": {
      "needs_background": "light"
     },
     "output_type": "display_data"
    }
   ],
   "source": [
    "#PLOT epochs vs accuracy\n",
    "plot_epochs(epochs, train_acc_original, val_acc_original, \n",
    "            'training accuracy', 'validation accuracy', \n",
    "            'Training and validation accuracy', 'Acuracy')"
   ]
  },
  {
   "cell_type": "code",
   "execution_count": 30,
   "metadata": {},
   "outputs": [
    {
     "data": {
      "image/png": "[encoded data removed]",
      "text/plain": [
       "<Figure size 432x288 with 1 Axes>"
      ]
     },
     "metadata": {
      "needs_background": "light"
     },
     "output_type": "display_data"
    }
   ],
   "source": [
    "#plot epochs vs accuracy and loss\n",
    "pd.DataFrame(history_original.history).plot(color=['red', 'blue', 'green', 'orange'], linewidth=2);"
   ]
  },
  {
   "cell_type": "code",
   "execution_count": 31,
   "metadata": {},
   "outputs": [
    {
     "name": "stdout",
     "output_type": "stream",
     "text": [
      "max validation accuracy + epochs 0.9123 11\n",
      "min validation loss + epochs 0.22506722526550293 12\n",
      "max train accuracy 0.9994\n",
      "min train loss 0.01470247532526652\n"
     ]
    }
   ],
   "source": [
    "print('max validation accuracy + epochs', max(val_acc_original), np.argmax(val_acc_original))\n",
    "print('min validation loss + epochs', min(val_loss_original), np.argmin(val_loss_original))\n",
    "print('max train accuracy', max(train_acc_original))\n",
    "print('min train loss', min(train_loss_original))"
   ]
  },
  {
   "cell_type": "markdown",
   "metadata": {},
   "source": [
    "## Evaluate network"
   ]
  },
  {
   "cell_type": "markdown",
   "metadata": {},
   "source": [
    "The chosen network is a neural network with 1 hidden layer. The output layer has one node and the sigmoid activation function, because it is a binary classification problem. The input layer has 16 nodes. We started with 16 nodes as input, than we evaluated the best hyperparameters for hidden layer size, number of hidden layers and loss function. When we trained a model with an input layer of 32 nodes and with the hyperparameter settings that were best for the with 32 nodes input model, we yielded slightly better results (improvement less than 0.01) for both the loss and the accuracy. When we tried the same for a model with an input layer with 64 nodes, we got worse results as for the two models described above. Thus, we concluded that we should use an input layer with 32 nodes and ran the hyperparameter gidsearch (see next paragraph) for a network with 32 input nodes. However, we noticed that this network costs +/- 7 seconds longer to train, which is an increase in fit time of about 25%. Because of efficiency reasons, we chose to use the network with 16 nodes in the input layer. \n",
    "\n",
    "As loss function we chose binary cross-entropy because we are facing a binary classification task. Binary cross-entropy is the correct loss function to deal with such a problem.\n",
    "\n",
    "For the evaluation of the hyperparameter settings, we created a grid search ourselves (without cross validation) to determine the best number of hidden layers and hidden layer size. The results for the different hyperparameter settings differ not much. We chose 1 hidden layer with 8 nodes, because this was the least complex network that yielded the best results. Other configurations of the network yielded the same results, but were more complex or more time costly (although the differences were fairly small). Our training data set has 25.000 entries, which should be big enough to train a deeper network, but considering the results of the grid search, it is not necesarry to use a deeper network. The optimal number of epochs for this network is 13. Also, a deeper network might be more prone to overfitting. "
   ]
  },
  {
   "cell_type": "markdown",
   "metadata": {},
   "source": [
    "## Evaluate network performance"
   ]
  },
  {
   "cell_type": "code",
   "execution_count": 33,
   "metadata": {},
   "outputs": [
    {
     "name": "stdout",
     "output_type": "stream",
     "text": [
      "Loss: 0.8879, Accuracy:  0.8273\n"
     ]
    }
   ],
   "source": [
    "original_model.fit(X_train, train_Y, epochs=13, batch_size=512, verbose=0)\n",
    "result = original_model.evaluate(X_test, test_Y, verbose=0)\n",
    "print(\"Loss: {:.4f}, Accuracy:  {:.4f}\".format(*result))"
   ]
  },
  {
   "cell_type": "markdown",
   "metadata": {},
   "source": [
    "The network performs quite well on the test set when we look at the accuracy. Without regularization, the network scores 0.83 accuracy on the test set. The model is still slightly overfitting, since the validation accuracy was 0.92, which is 0.09 higher than the test accuracy and the training accuracy was almost 1 (0.999). "
   ]
  },
  {
   "cell_type": "markdown",
   "metadata": {},
   "source": [
    "# Regularizing"
   ]
  },
  {
   "cell_type": "code",
   "execution_count": 34,
   "metadata": {},
   "outputs": [],
   "source": [
    "#L1 regularizing\n",
    "L1_model = make_model(n_hidden=n_hidden, hidden_size=hidden_size, input_size=16, regularizer=regularizers.l1(0.0001))\n",
    "\n",
    "history_L1, train_acc_L1, val_acc_L1, train_loss_L1, val_loss_L1, epochs = \\\n",
    "scores(L1_model, nr_of_epochs, partial_x_train, partial_y_train, x_val, y_val)"
   ]
  },
  {
   "cell_type": "code",
   "execution_count": 35,
   "metadata": {},
   "outputs": [
    {
     "data": {
      "image/png": "[encoded data removed]",
      "text/plain": [
       "<Figure size 432x288 with 1 Axes>"
      ]
     },
     "metadata": {
      "needs_background": "light"
     },
     "output_type": "display_data"
    },
    {
     "name": "stdout",
     "output_type": "stream",
     "text": [
      "original max validation accuracy:  0.9123 \n",
      "original min validation loss:  0.22506722526550293\n",
      "\n",
      "regularized max validation accuracy:  0.8813 \n",
      "regularized min validation loss:  0.3852128067970276\n",
      "\n",
      "regularized max train accuracy:  0.9397333 \n",
      "regularized min train loss:  0.2695025644143422\n"
     ]
    }
   ],
   "source": [
    "plot_epochs(epochs, val_loss_original, val_loss_L1, \n",
    "            'Original model', 'L1 regularized model', \n",
    "            'L1 regularization', 'Validation loss')\n",
    "\n",
    "print('original max validation accuracy: ', max(val_acc_original), '\\noriginal min validation loss: ', min(val_loss_original))\n",
    "print('\\nregularized max validation accuracy: ', max(val_acc_L1), '\\nregularized min validation loss: ', min(val_loss_L1))\n",
    "print('\\nregularized max train accuracy: ', max(train_acc_L1), '\\nregularized min train loss: ', min(train_loss_L1))"
   ]
  },
  {
   "cell_type": "code",
   "execution_count": 36,
   "metadata": {},
   "outputs": [],
   "source": [
    "## L2 regularizing\n",
    "L2_model = make_model(n_hidden=n_hidden, hidden_size=hidden_size, input_size=16, regularizer=regularizers.l2(0.0001))\n",
    "\n",
    "history_L2, train_acc_L2, val_acc_L2, train_loss_L2, val_loss_L2, epochs = \\\n",
    "scores(L2_model, nr_of_epochs, partial_x_train, partial_y_train, x_val, y_val)"
   ]
  },
  {
   "cell_type": "code",
   "execution_count": 37,
   "metadata": {},
   "outputs": [
    {
     "data": {
      "image/png": "[encoded data removed]",
      "text/plain": [
       "<Figure size 432x288 with 1 Axes>"
      ]
     },
     "metadata": {
      "needs_background": "light"
     },
     "output_type": "display_data"
    },
    {
     "name": "stdout",
     "output_type": "stream",
     "text": [
      "original max validation accuracy:  0.9123 \n",
      "original min validation loss:  0.22506722526550293\n",
      "\n",
      "regularized max validation accuracy:  0.9042 \n",
      "regularized min validation loss:  0.29451590118408205\n",
      "\n",
      "regularized max train accuracy:  0.993 \n",
      "regularized min train loss:  0.10207615117232005\n"
     ]
    }
   ],
   "source": [
    "plot_epochs(epochs, val_loss_original, val_loss_L2, \n",
    "            'Original model', 'L2 regularized model', \n",
    "            'L2 regularization', 'Validation loss')\n",
    "\n",
    "print('original max validation accuracy: ', max(val_acc_original), '\\noriginal min validation loss: ', min(val_loss_original))\n",
    "print('\\nregularized max validation accuracy: ', max(val_acc_L2), '\\nregularized min validation loss: ', min(val_loss_L2))\n",
    "print('\\nregularized max train accuracy: ', max(train_acc_L2), '\\nregularized min train loss: ', min(train_loss_L2))"
   ]
  },
  {
   "cell_type": "markdown",
   "metadata": {},
   "source": [
    "### Evaluation of L1 and L2 regularization"
   ]
  },
  {
   "cell_type": "code",
   "execution_count": 38,
   "metadata": {},
   "outputs": [
    {
     "name": "stdout",
     "output_type": "stream",
     "text": [
      "Loss: 0.3386, Accuracy:  0.8779\n"
     ]
    }
   ],
   "source": [
    "# Evaluating L2, because L2 performed better on the validation set than L1\n",
    "L2_model = make_model(n_hidden=n_hidden, hidden_size=hidden_size, input_size=16, regularizer=regularizers.l2(0.0001))\n",
    "L2_model.fit(X_train, train_Y, epochs=13, batch_size=512, verbose=0)\n",
    "L2_result = L2_model.evaluate(X_test, test_Y, verbose=0)\n",
    "print(\"Loss: {:.4f}, Accuracy:  {:.4f}\".format(*L2_result))"
   ]
  },
  {
   "cell_type": "markdown",
   "metadata": {},
   "source": [
    "For regularization, you can take a smaller network, you can use L1 or L2 regularization, or you could use dropout layers. We didn't choose to test for a smaller network, since the network that we chose to use is already very small. \n",
    "\n",
    "Here we will discuss the plots above that use L1 and L2 regularization.\n",
    "\n",
    "The plots above show that the original model starts overfitting after +/- 10 epochs. \n",
    "L1 regularization doesn't seem start overfitting within 40 epochs. However, it also doesn't reach a validation loss as low as the original model within 40 epochs. The printed maximum accuracy isn't as high for the regularized model as for the original model.\n",
    "L2 regularization starts overfitting around 15 epochs. However, it overfits significantly more slowly than the original model. In addition to this, it's accuracy is not as high as the accuracy of the origical model, but it is higher than with the L1 regularization. \n",
    "\n",
    "When we evaluate our L2 regularized model on the testset it has an accuracy of 0.88, which is an improvement compared to the original model (0.84). However, the model is still overfitting, since the train accuracy of the L2 regularized model is 0.99."
   ]
  },
  {
   "cell_type": "markdown",
   "metadata": {},
   "source": [
    "### Dropout model"
   ]
  },
  {
   "cell_type": "code",
   "execution_count": 39,
   "metadata": {},
   "outputs": [],
   "source": [
    "dpt_model = make_model(n_hidden=n_hidden, hidden_size=hidden_size, input_size=16, optimizer=\"adam\", loss='binary_crossentropy', \n",
    "               regularizer = None, dropout=True, dropout_rate=0.3)\n",
    "\n",
    "history_dpt, train_acc_dpt, val_acc_dpt, train_loss_dpt, val_loss_dpt, epochs = \\\n",
    "scores(dpt_model, nr_of_epochs, partial_x_train, partial_y_train, x_val, y_val)"
   ]
  },
  {
   "cell_type": "code",
   "execution_count": 40,
   "metadata": {},
   "outputs": [
    {
     "data": {
      "image/png": "[encoded data removed]",
      "text/plain": [
       "<Figure size 432x288 with 1 Axes>"
      ]
     },
     "metadata": {
      "needs_background": "light"
     },
     "output_type": "display_data"
    },
    {
     "name": "stdout",
     "output_type": "stream",
     "text": [
      "original max validation accuracy:  0.9123 \n",
      "original min validation loss:  0.22506722526550293\n",
      "\n",
      "dpt-regularized max validation accuracy:  0.9123 \n",
      "dpt-regularized min validation loss:  0.22423196573257445\n",
      "\n",
      "dpt-regularized max train accuracy:  0.993 \n",
      "dpt-regularized min train loss:  0.10207615117232005\n"
     ]
    }
   ],
   "source": [
    "plot_epochs(epochs, val_loss_original, val_loss_dpt, \n",
    "            'Original model', 'dropout regularized model', \n",
    "            'dropout regularization', 'Validation loss')\n",
    "\n",
    "print('original max validation accuracy: ', max(val_acc_original), '\\noriginal min validation loss: ', min(val_loss_original))\n",
    "print('\\ndpt-regularized max validation accuracy: ', max(val_acc_dpt), '\\ndpt-regularized min validation loss: ', min(val_loss_dpt))\n",
    "print('\\ndpt-regularized max train accuracy: ', max(train_acc_L2), '\\ndpt-regularized min train loss: ', min(train_loss_L2))"
   ]
  },
  {
   "cell_type": "markdown",
   "metadata": {},
   "source": [
    "### Evaluation drop-out model"
   ]
  },
  {
   "cell_type": "code",
   "execution_count": 41,
   "metadata": {},
   "outputs": [
    {
     "name": "stdout",
     "output_type": "stream",
     "text": [
      "Loss: 0.6818, Accuracy:  0.8364\n"
     ]
    }
   ],
   "source": [
    "dpt_model.fit(X_train, train_Y, epochs=17, batch_size=512, verbose=0)\n",
    "result = dpt_model.evaluate(X_test, test_Y, verbose=0)\n",
    "print(\"Loss: {:.4f}, Accuracy:  {:.4f}\".format(*result))"
   ]
  },
  {
   "cell_type": "markdown",
   "metadata": {},
   "source": [
    "The model with drop-out layers performs better on the validation set than the original model and also starts overfitting more slowly. Thus, the performance of the drop-out model seems to perform better than de original model. However, it performs worse on the testset with an accuracy of 0.82 (compared to 0.84). The high training score of 0.99 indicates that the model still overfits. "
   ]
  },
  {
   "cell_type": "markdown",
   "metadata": {},
   "source": [
    "### Combined L2 & dropout"
   ]
  },
  {
   "cell_type": "code",
   "execution_count": 42,
   "metadata": {},
   "outputs": [],
   "source": [
    "dpt_L2_model = make_model(n_hidden=n_hidden, hidden_size=hidden_size, input_size=16, optimizer=\"adam\", loss='binary_crossentropy', \n",
    "               regularizer=regularizers.l2(0.00001), dropout=True, dropout_rate=0.5)\n",
    "\n",
    "history_L2_dpt, train_acc_L2_dpt, val_acc_L2_dpt, train_loss_L2_dpt, val_loss_L2_dpt, epochs = \\\n",
    "scores(dpt_L2_model, nr_of_epochs, partial_x_train, partial_y_train, x_val, y_val)"
   ]
  },
  {
   "cell_type": "code",
   "execution_count": 43,
   "metadata": {},
   "outputs": [
    {
     "data": {
      "image/png": "[encoded data removed]",
      "text/plain": [
       "<Figure size 432x288 with 1 Axes>"
      ]
     },
     "metadata": {
      "needs_background": "light"
     },
     "output_type": "display_data"
    },
    {
     "name": "stdout",
     "output_type": "stream",
     "text": [
      "original max validation accuracy:  0.9123 \n",
      "original min validation loss:  0.22506722526550293\n",
      "\n",
      "dpt-regularized max validation accuracy:  0.9105 \n",
      "dpt-regularized min validation loss:  0.2407931944847107\n",
      "\n",
      "regularized max train accuracy:  0.98233336 \n",
      "regularized min train loss:  0.09836721007823944\n"
     ]
    }
   ],
   "source": [
    "plot_epochs(epochs, val_loss_original, val_loss_L2_dpt, \n",
    "            'Original model', 'dropout & L2 regularized model', \n",
    "            'dropout & L2 regularization', 'Validation loss')\n",
    "\n",
    "print('original max validation accuracy: ', max(val_acc_original), '\\noriginal min validation loss: ', min(val_loss_original))\n",
    "print('\\ndpt-regularized max validation accuracy: ', max(val_acc_L2_dpt), '\\ndpt-regularized min validation loss: ', min(val_loss_L2_dpt))\n",
    "print('\\nregularized max train accuracy: ', max(train_acc_L2_dpt), '\\nregularized min train loss: ', min(train_loss_L2_dpt))"
   ]
  },
  {
   "cell_type": "markdown",
   "metadata": {},
   "source": [
    "### dpt & L2 model evaluation"
   ]
  },
  {
   "cell_type": "code",
   "execution_count": 44,
   "metadata": {},
   "outputs": [
    {
     "name": "stdout",
     "output_type": "stream",
     "text": [
      "Loss: 0.5906, Accuracy:  0.8468\n"
     ]
    }
   ],
   "source": [
    "dpt_L2_model.fit(X_train, train_Y, epochs=17, batch_size=512, verbose=0)\n",
    "result = dpt_L2_model.evaluate(X_test, test_Y, verbose=0)\n",
    "print(\"Loss: {:.4f}, Accuracy:  {:.4f}\".format(*result))"
   ]
  },
  {
   "cell_type": "markdown",
   "metadata": {},
   "source": [
    "The dropout and L2 regularized model performs slightly better than the original model with the chosen dropout rate and learning rate for L2. Adding the dropout layers to our L2 regularized model does not improve our model, but decreases its performance. The L2 regularized model without dropout yields the best results until now.  "
   ]
  },
  {
   "cell_type": "markdown",
   "metadata": {},
   "source": [
    "# Try to further improve performance \n",
    "We decided to try for different optimizerd and learning rates. At first, we also wanted to compare different dropout rates, but since we concluded that adding dropout does not improve the performance of the original model or the regularized model, but instead decreases the performance, we decided to not add dropout. "
   ]
  },
  {
   "cell_type": "code",
   "execution_count": 45,
   "metadata": {},
   "outputs": [],
   "source": [
    "optimizers = ['adam', 'rmsprop', 'sgd', 'adagrad', 'adadelta', 'adamax', 'nadam']\n",
    "learning_rates = [0.001, 0.0001, 0.00001, 0.000001]\n",
    "#dropout_rates = [0.2, 0.35, 0.5]"
   ]
  },
  {
   "cell_type": "code",
   "execution_count": 46,
   "metadata": {},
   "outputs": [],
   "source": [
    "opt_dict = {}\n",
    "for optimizer in optimizers:\n",
    "    model = make_model(n_hidden, \n",
    "                           hidden_size=hidden_size, \n",
    "                           optimizer=optimizer, \n",
    "                           loss='binary_crossentropy')\n",
    "    opt_dict[optimizer] = NN_performance(model, partial_x_train, partial_y_train, x_val, y_val)      "
   ]
  },
  {
   "cell_type": "code",
   "execution_count": 47,
   "metadata": {},
   "outputs": [
    {
     "data": {
      "text/html": [
       "<div>\n",
       "<style scoped>\n",
       "    .dataframe tbody tr th:only-of-type {\n",
       "        vertical-align: middle;\n",
       "    }\n",
       "\n",
       "    .dataframe tbody tr th {\n",
       "        vertical-align: top;\n",
       "    }\n",
       "\n",
       "    .dataframe thead th {\n",
       "        text-align: right;\n",
       "    }\n",
       "</style>\n",
       "<table border=\"1\" class=\"dataframe\">\n",
       "  <thead>\n",
       "    <tr style=\"text-align: right;\">\n",
       "      <th></th>\n",
       "      <th>Max_val_acc</th>\n",
       "      <th>Max_val_acc_epochs</th>\n",
       "      <th>Min_val_loss</th>\n",
       "      <th>Min_val_loss_epochs</th>\n",
       "      <th>train_time</th>\n",
       "    </tr>\n",
       "  </thead>\n",
       "  <tbody>\n",
       "    <tr>\n",
       "      <th>adadelta</th>\n",
       "      <td>0.51</td>\n",
       "      <td>20</td>\n",
       "      <td>0.69</td>\n",
       "      <td>20</td>\n",
       "      <td>58.06</td>\n",
       "    </tr>\n",
       "    <tr>\n",
       "      <th>adagrad</th>\n",
       "      <td>0.87</td>\n",
       "      <td>20</td>\n",
       "      <td>0.58</td>\n",
       "      <td>20</td>\n",
       "      <td>58.53</td>\n",
       "    </tr>\n",
       "    <tr>\n",
       "      <th>adam</th>\n",
       "      <td>0.91</td>\n",
       "      <td>12</td>\n",
       "      <td>0.22</td>\n",
       "      <td>13</td>\n",
       "      <td>57.66</td>\n",
       "    </tr>\n",
       "    <tr>\n",
       "      <th>adamax</th>\n",
       "      <td>0.91</td>\n",
       "      <td>20</td>\n",
       "      <td>0.24</td>\n",
       "      <td>20</td>\n",
       "      <td>57.92</td>\n",
       "    </tr>\n",
       "    <tr>\n",
       "      <th>nadam</th>\n",
       "      <td>0.91</td>\n",
       "      <td>11</td>\n",
       "      <td>0.22</td>\n",
       "      <td>11</td>\n",
       "      <td>63.59</td>\n",
       "    </tr>\n",
       "    <tr>\n",
       "      <th>rmsprop</th>\n",
       "      <td>0.91</td>\n",
       "      <td>14</td>\n",
       "      <td>0.22</td>\n",
       "      <td>14</td>\n",
       "      <td>59.66</td>\n",
       "    </tr>\n",
       "    <tr>\n",
       "      <th>sgd</th>\n",
       "      <td>0.59</td>\n",
       "      <td>20</td>\n",
       "      <td>0.69</td>\n",
       "      <td>20</td>\n",
       "      <td>56.11</td>\n",
       "    </tr>\n",
       "  </tbody>\n",
       "</table>\n",
       "</div>"
      ],
      "text/plain": [
       "          Max_val_acc  Max_val_acc_epochs  Min_val_loss  Min_val_loss_epochs  \\\n",
       "adadelta         0.51                  20          0.69                   20   \n",
       "adagrad          0.87                  20          0.58                   20   \n",
       "adam             0.91                  12          0.22                   13   \n",
       "adamax           0.91                  20          0.24                   20   \n",
       "nadam            0.91                  11          0.22                   11   \n",
       "rmsprop          0.91                  14          0.22                   14   \n",
       "sgd              0.59                  20          0.69                   20   \n",
       "\n",
       "          train_time  \n",
       "adadelta       58.06  \n",
       "adagrad        58.53  \n",
       "adam           57.66  \n",
       "adamax         57.92  \n",
       "nadam          63.59  \n",
       "rmsprop        59.66  \n",
       "sgd            56.11  "
      ]
     },
     "execution_count": 47,
     "metadata": {},
     "output_type": "execute_result"
    }
   ],
   "source": [
    "opt_df = pd.DataFrame.from_dict(opt_dict, orient='index')    \n",
    "        \n",
    "opt_df  "
   ]
  },
  {
   "cell_type": "markdown",
   "metadata": {},
   "source": [
    "Based on the dataframe above, we decided to only do a gridsearch on the optimizers with a performance (accuracy) on the validation set of 0.9 or higher."
   ]
  },
  {
   "cell_type": "code",
   "execution_count": 48,
   "metadata": {},
   "outputs": [],
   "source": [
    "optimizers = ['adam', 'rmsprop', 'adamax', 'nadam']"
   ]
  },
  {
   "cell_type": "code",
   "execution_count": 49,
   "metadata": {},
   "outputs": [],
   "source": [
    "def manual_tuning(x_train, y_train, x_val, y_val, n_epochs=20, optimizers=['adam']):\n",
    "    performance_dict = {}\n",
    "    for optimizer in tqdm_notebook(optimizers):\n",
    "        for learning_rate in learning_rates:\n",
    "            model = make_model(n_hidden, \n",
    "                               hidden_size=hidden_size, \n",
    "                               optimizer=optimizer, \n",
    "                               loss='binary_crossentropy',  \n",
    "                               regularizer=regularizers.l2(learning_rate))\n",
    "            #fill performance dict with validation accuracy and loss scores + corresponding epochs\n",
    "            performance_dict[(optimizer, learning_rate)] = NN_performance(model, x_train, y_train, x_val, y_val)\n",
    "    performance_df = pd.DataFrame.from_dict(performance_dict, orient='index')\n",
    "    return performance_df"
   ]
  },
  {
   "cell_type": "code",
   "execution_count": 205,
   "metadata": {},
   "outputs": [],
   "source": [
    "df_manual_tuning = manual_tuning(partial_x_train, partial_y_train, x_val, y_val, optimizers=optimizers)"
   ]
  },
  {
   "cell_type": "code",
   "execution_count": 51,
   "metadata": {},
   "outputs": [
    {
     "data": {
      "text/html": [
       "<div>\n",
       "<style scoped>\n",
       "    .dataframe tbody tr th:only-of-type {\n",
       "        vertical-align: middle;\n",
       "    }\n",
       "\n",
       "    .dataframe tbody tr th {\n",
       "        vertical-align: top;\n",
       "    }\n",
       "\n",
       "    .dataframe thead th {\n",
       "        text-align: right;\n",
       "    }\n",
       "</style>\n",
       "<table border=\"1\" class=\"dataframe\">\n",
       "  <thead>\n",
       "    <tr style=\"text-align: right;\">\n",
       "      <th></th>\n",
       "      <th></th>\n",
       "      <th>Max_val_acc</th>\n",
       "      <th>Max_val_acc_epochs</th>\n",
       "      <th>Min_val_loss</th>\n",
       "      <th>Min_val_loss_epochs</th>\n",
       "      <th>train_time</th>\n",
       "    </tr>\n",
       "  </thead>\n",
       "  <tbody>\n",
       "    <tr>\n",
       "      <th rowspan=\"4\" valign=\"top\">adam</th>\n",
       "      <th>1.00e-06</th>\n",
       "      <td>0.91</td>\n",
       "      <td>12</td>\n",
       "      <td>0.23</td>\n",
       "      <td>15</td>\n",
       "      <td>58.98</td>\n",
       "    </tr>\n",
       "    <tr>\n",
       "      <th>1.00e-05</th>\n",
       "      <td>0.91</td>\n",
       "      <td>11</td>\n",
       "      <td>0.24</td>\n",
       "      <td>12</td>\n",
       "      <td>58.44</td>\n",
       "    </tr>\n",
       "    <tr>\n",
       "      <th>1.00e-04</th>\n",
       "      <td>0.90</td>\n",
       "      <td>10</td>\n",
       "      <td>0.30</td>\n",
       "      <td>16</td>\n",
       "      <td>59.77</td>\n",
       "    </tr>\n",
       "    <tr>\n",
       "      <th>1.00e-03</th>\n",
       "      <td>0.88</td>\n",
       "      <td>20</td>\n",
       "      <td>0.48</td>\n",
       "      <td>20</td>\n",
       "      <td>61.64</td>\n",
       "    </tr>\n",
       "    <tr>\n",
       "      <th rowspan=\"4\" valign=\"top\">adamax</th>\n",
       "      <th>1.00e-06</th>\n",
       "      <td>0.90</td>\n",
       "      <td>19</td>\n",
       "      <td>0.25</td>\n",
       "      <td>20</td>\n",
       "      <td>60.59</td>\n",
       "    </tr>\n",
       "    <tr>\n",
       "      <th>1.00e-05</th>\n",
       "      <td>0.90</td>\n",
       "      <td>20</td>\n",
       "      <td>0.25</td>\n",
       "      <td>20</td>\n",
       "      <td>61.55</td>\n",
       "    </tr>\n",
       "    <tr>\n",
       "      <th>1.00e-04</th>\n",
       "      <td>0.90</td>\n",
       "      <td>20</td>\n",
       "      <td>0.28</td>\n",
       "      <td>20</td>\n",
       "      <td>63.89</td>\n",
       "    </tr>\n",
       "    <tr>\n",
       "      <th>1.00e-03</th>\n",
       "      <td>0.89</td>\n",
       "      <td>20</td>\n",
       "      <td>0.40</td>\n",
       "      <td>20</td>\n",
       "      <td>60.20</td>\n",
       "    </tr>\n",
       "    <tr>\n",
       "      <th rowspan=\"4\" valign=\"top\">nadam</th>\n",
       "      <th>1.00e-06</th>\n",
       "      <td>0.91</td>\n",
       "      <td>10</td>\n",
       "      <td>0.23</td>\n",
       "      <td>11</td>\n",
       "      <td>63.66</td>\n",
       "    </tr>\n",
       "    <tr>\n",
       "      <th>1.00e-05</th>\n",
       "      <td>0.91</td>\n",
       "      <td>11</td>\n",
       "      <td>0.24</td>\n",
       "      <td>12</td>\n",
       "      <td>66.94</td>\n",
       "    </tr>\n",
       "    <tr>\n",
       "      <th>1.00e-04</th>\n",
       "      <td>0.91</td>\n",
       "      <td>11</td>\n",
       "      <td>0.29</td>\n",
       "      <td>11</td>\n",
       "      <td>62.55</td>\n",
       "    </tr>\n",
       "    <tr>\n",
       "      <th>1.00e-03</th>\n",
       "      <td>0.90</td>\n",
       "      <td>13</td>\n",
       "      <td>0.37</td>\n",
       "      <td>18</td>\n",
       "      <td>62.67</td>\n",
       "    </tr>\n",
       "    <tr>\n",
       "      <th rowspan=\"4\" valign=\"top\">rmsprop</th>\n",
       "      <th>1.00e-06</th>\n",
       "      <td>0.91</td>\n",
       "      <td>12</td>\n",
       "      <td>0.22</td>\n",
       "      <td>13</td>\n",
       "      <td>62.03</td>\n",
       "    </tr>\n",
       "    <tr>\n",
       "      <th>1.00e-05</th>\n",
       "      <td>0.91</td>\n",
       "      <td>15</td>\n",
       "      <td>0.23</td>\n",
       "      <td>13</td>\n",
       "      <td>60.84</td>\n",
       "    </tr>\n",
       "    <tr>\n",
       "      <th>1.00e-04</th>\n",
       "      <td>0.91</td>\n",
       "      <td>9</td>\n",
       "      <td>0.28</td>\n",
       "      <td>11</td>\n",
       "      <td>62.53</td>\n",
       "    </tr>\n",
       "    <tr>\n",
       "      <th>1.00e-03</th>\n",
       "      <td>0.90</td>\n",
       "      <td>20</td>\n",
       "      <td>0.36</td>\n",
       "      <td>20</td>\n",
       "      <td>61.52</td>\n",
       "    </tr>\n",
       "  </tbody>\n",
       "</table>\n",
       "</div>"
      ],
      "text/plain": [
       "                  Max_val_acc  Max_val_acc_epochs  Min_val_loss  \\\n",
       "adam    1.00e-06         0.91                  12          0.23   \n",
       "        1.00e-05         0.91                  11          0.24   \n",
       "        1.00e-04         0.90                  10          0.30   \n",
       "        1.00e-03         0.88                  20          0.48   \n",
       "adamax  1.00e-06         0.90                  19          0.25   \n",
       "        1.00e-05         0.90                  20          0.25   \n",
       "        1.00e-04         0.90                  20          0.28   \n",
       "        1.00e-03         0.89                  20          0.40   \n",
       "nadam   1.00e-06         0.91                  10          0.23   \n",
       "        1.00e-05         0.91                  11          0.24   \n",
       "        1.00e-04         0.91                  11          0.29   \n",
       "        1.00e-03         0.90                  13          0.37   \n",
       "rmsprop 1.00e-06         0.91                  12          0.22   \n",
       "        1.00e-05         0.91                  15          0.23   \n",
       "        1.00e-04         0.91                   9          0.28   \n",
       "        1.00e-03         0.90                  20          0.36   \n",
       "\n",
       "                  Min_val_loss_epochs  train_time  \n",
       "adam    1.00e-06                   15       58.98  \n",
       "        1.00e-05                   12       58.44  \n",
       "        1.00e-04                   16       59.77  \n",
       "        1.00e-03                   20       61.64  \n",
       "adamax  1.00e-06                   20       60.59  \n",
       "        1.00e-05                   20       61.55  \n",
       "        1.00e-04                   20       63.89  \n",
       "        1.00e-03                   20       60.20  \n",
       "nadam   1.00e-06                   11       63.66  \n",
       "        1.00e-05                   12       66.94  \n",
       "        1.00e-04                   11       62.55  \n",
       "        1.00e-03                   18       62.67  \n",
       "rmsprop 1.00e-06                   13       62.03  \n",
       "        1.00e-05                   13       60.84  \n",
       "        1.00e-04                   11       62.53  \n",
       "        1.00e-03                   20       61.52  "
      ]
     },
     "execution_count": 51,
     "metadata": {},
     "output_type": "execute_result"
    }
   ],
   "source": [
    "df_manual_tuning"
   ]
  },
  {
   "cell_type": "markdown",
   "metadata": {},
   "source": [
    "### Evaluation of the manual tuning."
   ]
  },
  {
   "cell_type": "code",
   "execution_count": 52,
   "metadata": {},
   "outputs": [],
   "source": [
    "tuned_model = make_model(n_hidden=n_hidden, hidden_size=hidden_size, optimizer=\"rmsprop\", loss='binary_crossentropy', \n",
    "               regularizer=regularizers.l2(0.000001))\n",
    "\n",
    "history_tuned, train_acc_tuned, val_acc_tuned, train_loss_tuned, val_loss_tuned, epochs = \\\n",
    "scores(tuned_model, nr_of_epochs, partial_x_train, partial_y_train, x_val, y_val)"
   ]
  },
  {
   "cell_type": "code",
   "execution_count": 53,
   "metadata": {},
   "outputs": [
    {
     "name": "stdout",
     "output_type": "stream",
     "text": [
      "original max validation accuracy:  0.9123 \n",
      "original min validation loss:  0.22506722526550293\n",
      "\n",
      "tuned max validation accuracy:  0.9134 \n",
      "tuned min validation loss:  0.22194876985549927\n",
      "\n",
      "tuned max train accuracy:  0.9982 \n",
      "tuned min train loss:  0.015073802090684573\n",
      "\n",
      "optimal epochs: 13\n"
     ]
    }
   ],
   "source": [
    "print('original max validation accuracy: ', max(val_acc_original), '\\noriginal min validation loss: ', min(val_loss_original))\n",
    "print('\\ntuned max validation accuracy: ', max(val_acc_tuned), '\\ntuned min validation loss: ', min(val_loss_tuned))\n",
    "print('\\ntuned max train accuracy: ', max(train_acc_tuned), '\\ntuned min train loss: ', min(train_loss_tuned))\n",
    "print('\\noptimal epochs:', np.argmax(val_acc_tuned)+1)"
   ]
  },
  {
   "cell_type": "code",
   "execution_count": 54,
   "metadata": {},
   "outputs": [
    {
     "name": "stdout",
     "output_type": "stream",
     "text": [
      "Loss: 0.5324, Accuracy:  0.8446\n"
     ]
    }
   ],
   "source": [
    "tuned_model.fit(X_train, train_Y, epochs=14, batch_size=512, verbose=0)\n",
    "result = tuned_model.evaluate(X_test, test_Y, verbose=0)\n",
    "print(\"Loss: {:.4f}, Accuracy:  {:.4f}\".format(*result))"
   ]
  },
  {
   "cell_type": "markdown",
   "metadata": {},
   "source": [
    "When the validation accuracies are compared, the differences are not very big. However, when we look at the validation loss, quite big differences occur. The smallest learning rate (1e-6) for the L2 regularization in combination with the rmsprops optimizer yields the best results in terms of loss (0.22). Thus we will choose this alpha for our L2 regularization.\n",
    "\n",
    "However, when tested on the test data, this model did not give the best results. The model with an input size of 16, 1 hidden layer with size 8 and activation function adam with L2 regularization 1e-5 yielded the best results of all our models tested on the test set."
   ]
  },
  {
   "cell_type": "markdown",
   "metadata": {},
   "source": [
    "## 2. Embeddings (30 points) {-}"
   ]
  },
  {
   "cell_type": "code",
   "execution_count": 57,
   "metadata": {},
   "outputs": [],
   "source": [
    "#To import the predefined word2vec embedding\n",
    "# import wget\n",
    "# wget.download(\"https://s3.amazonaws.com/dl4j-distribution/GoogleNews-vectors-negative300.bin.gz\")"
   ]
  },
  {
   "cell_type": "code",
   "execution_count": null,
   "metadata": {},
   "outputs": [],
   "source": [
    "#To import the predefined glove embedding\n",
    "# import wget\n",
    "# wget.download(\"http://nlp.stanford.edu/data/glove.6B.zip\")"
   ]
  },
  {
   "cell_type": "markdown",
   "metadata": {},
   "source": [
    "### Preprosessing for embeddings"
   ]
  },
  {
   "cell_type": "code",
   "execution_count": 15,
   "metadata": {},
   "outputs": [],
   "source": [
    "#Removing punctuation\n",
    "def clean_text(text):\n",
    "    punctuations = '''()-[]{};:'\"\\,./@#$%^&*_~''' #<> removed\n",
    "    total = []\n",
    "    for file in text:\n",
    "        no_punct = \"\"\n",
    "        for char in file:\n",
    "            if char not in punctuations:\n",
    "                no_punct = no_punct + char\n",
    "        no_punct = no_punct.replace(\"<br /><br />\", \" \")\n",
    "        no_punct = no_punct.replace(\"<br ><br >\", \" \")\n",
    "        no_punct = no_punct.replace(\"  \", \" \")\n",
    "        no_punct = no_punct.lower()\n",
    "        total.append(no_punct)\n",
    "    total = np.asarray(total)\n",
    "    return total     "
   ]
  },
  {
   "cell_type": "markdown",
   "metadata": {},
   "source": [
    "We ran the models with and without cleaning them. Using the embedded models without the above mentioned cleaning function resulted in a very minimal increase in accuracy. We decided to clean the data-set anyway, since we do not want the model to learn wrong things (e.g. the html line breaks)."
   ]
  },
  {
   "cell_type": "code",
   "execution_count": 16,
   "metadata": {},
   "outputs": [],
   "source": [
    "# Deleting all punctuation and uppercases\n",
    "X_train2 = clean_text(trX)\n",
    "X_test2 = clean_text(ttX)"
   ]
  },
  {
   "cell_type": "code",
   "execution_count": 32,
   "metadata": {},
   "outputs": [],
   "source": [
    "#Tokenize X_train\n",
    "tokenizer_tr = Tokenizer()\n",
    "tokenizer_tr.fit_on_texts(X_train2) #splits the words\n",
    "vsize_tr = len(tokenizer_tr.word_index) + 1 #amount of unique words\n",
    "\n",
    "#Tokenize X_test\n",
    "tokenizer_tt = Tokenizer()\n",
    "tokenizer_tt.fit_on_texts(X_test2) #splits the words\n",
    "vsize_tt = len(tokenizer_tt.word_index) + 1 #amount of unique wordsa"
   ]
  },
  {
   "cell_type": "code",
   "execution_count": 27,
   "metadata": {},
   "outputs": [],
   "source": [
    "vsize = 10000  \n",
    "encoded_docs_tr = [one_hot(d, vsize) for d in X_train2]\n",
    "encoded_docs_tt = [one_hot(d, vsize) for d in X_test2]"
   ]
  },
  {
   "cell_type": "code",
   "execution_count": 18,
   "metadata": {},
   "outputs": [
    {
     "name": "stdout",
     "output_type": "stream",
     "text": [
      "228\n"
     ]
    }
   ],
   "source": [
    "#Determining max lenth Based on both X_train and X_test \n",
    "word_list = [len(i) for i in encoded_docs_tr]\n",
    "word_list2 = [len(i) for i in encoded_docs_tt]\n",
    "max_length = round((statistics.mean(word_list) + statistics.mean(word_list2))/2) #This is the average amount of words per review)\n",
    "#We set the max lenth to half of the max length, otherwise the model has to train too many parameters\n",
    "max_length = int(max_length)\n",
    "print(max_length)"
   ]
  },
  {
   "cell_type": "code",
   "execution_count": 20,
   "metadata": {},
   "outputs": [],
   "source": [
    "#now that we know the avarage, we take a length that is a bit more that double the avarage --> 500\n",
    "max_length = 500"
   ]
  },
  {
   "cell_type": "code",
   "execution_count": 22,
   "metadata": {},
   "outputs": [],
   "source": [
    "padded_doc_tr = pad_sequences(encoded_docs_tr, maxlen=max_length, padding='post') #Turns every reviews in a review of max_length\n",
    "padded_doc_tt = pad_sequences(encoded_docs_tt, maxlen=max_length, padding='post') #Turns every reviews in a review of max_length\n",
    "#Padded_docs is used to fit the model later"
   ]
  },
  {
   "cell_type": "markdown",
   "metadata": {},
   "source": [
    "### Functions to create embeddings"
   ]
  },
  {
   "cell_type": "code",
   "execution_count": 23,
   "metadata": {},
   "outputs": [],
   "source": [
    "# https://machinelearningmastery.com/use-word-embedding-layers-deep-learning-keras/\n",
    "# https://medium.com/@ppasumarthi_69210/word-embeddings-in-keras-be6bb3092831\n",
    "def getVector(embeddings_index,str):\n",
    "    \"\"\" The function gets a word2vec model and a word as parameters.\n",
    "    The function takes a word from the review and checks if the word is in the word2vector model.\n",
    "    If it is, it returns the values from the word2vector model.\n",
    "    \"\"\"\n",
    "    if str in embeddings_index:\n",
    "        return embeddings_index[str]\n",
    "    else:\n",
    "         return None;"
   ]
  },
  {
   "cell_type": "code",
   "execution_count": 24,
   "metadata": {},
   "outputs": [],
   "source": [
    "# create a weight matrix for words in training docs \n",
    "def weight_matrix(embedding_i,vsize, tokenizer_wm):\n",
    "    embedding_matrix = np.zeros((vsize, 300))\n",
    "    for word, i in tokenizer_wm.word_index.items():\n",
    "        embedding_vector = getVector(embedding_i,word)\n",
    "        if embedding_vector is not None:\n",
    "            embedding_matrix[i] = embedding_vector\n",
    "    return embedding_matrix"
   ]
  },
  {
   "cell_type": "markdown",
   "metadata": {},
   "source": [
    "### Embedding 1 - pre-trained Word2Vec"
   ]
  },
  {
   "cell_type": "code",
   "execution_count": 25,
   "metadata": {},
   "outputs": [],
   "source": [
    "#Making a word2vec model based on the google news dataset\n",
    "word2vec_model = KeyedVectors.load_word2vec_format('GoogleNews-vectors-negative300.bin', binary=True)"
   ]
  },
  {
   "cell_type": "code",
   "execution_count": 33,
   "metadata": {},
   "outputs": [],
   "source": [
    "weight_matrix_tr = weight_matrix(word2vec_model,vsize_tr, tokenizer_tr)"
   ]
  },
  {
   "cell_type": "code",
   "execution_count": 35,
   "metadata": {},
   "outputs": [],
   "source": [
    "#Create the embedding layer\n",
    "\"\"\"\n",
    "When using keras.layers, we encountered the following error:\n",
    "RuntimeError: It looks like you are trying to use a version of multi-backend \n",
    "Keras that does not support TensorFlow 2.0. We recommend using `tf.keras`, or \n",
    "alternatively, downgrading to TensorFlow 1.14.\n",
    "Therefore, we are now using tensorflow.keras.layers\n",
    "\"\"\"\n",
    "e_w2v = Embedding(vsize_tr, 300,weights=[weight_matrix_tr],input_length=max_length)"
   ]
  },
  {
   "cell_type": "code",
   "execution_count": 36,
   "metadata": {},
   "outputs": [],
   "source": [
    "embedded_w2v_model = make_model(n_hidden=1, hidden_size = 8,\n",
    "                       embedding=True, embedding_layer=e_w2v, input_shape=(150000,))"
   ]
  },
  {
   "cell_type": "code",
   "execution_count": 37,
   "metadata": {},
   "outputs": [
    {
     "name": "stdout",
     "output_type": "stream",
     "text": [
      "Model: \"sequential\"\n",
      "_________________________________________________________________\n",
      "Layer (type)                 Output Shape              Param #   \n",
      "=================================================================\n",
      "embedding (Embedding)        (None, 500, 300)          33661200  \n",
      "_________________________________________________________________\n",
      "flatten (Flatten)            (None, 150000)            0         \n",
      "_________________________________________________________________\n",
      "dense (Dense)                (None, 16)                2400016   \n",
      "_________________________________________________________________\n",
      "dense_1 (Dense)              (None, 8)                 136       \n",
      "_________________________________________________________________\n",
      "dense_2 (Dense)              (None, 1)                 9         \n",
      "=================================================================\n",
      "Total params: 36,061,361\n",
      "Trainable params: 36,061,361\n",
      "Non-trainable params: 0\n",
      "_________________________________________________________________\n"
     ]
    }
   ],
   "source": [
    "embedded_w2v_model.summary()"
   ]
  },
  {
   "cell_type": "markdown",
   "metadata": {},
   "source": [
    "### Evaluation Word2Vec"
   ]
  },
  {
   "cell_type": "code",
   "execution_count": 38,
   "metadata": {},
   "outputs": [],
   "source": [
    "#some global variables\n",
    "nr_of_epochs = 20\n",
    "n_hidden = 1\n",
    "hidden_size = 8"
   ]
  },
  {
   "cell_type": "code",
   "execution_count": 39,
   "metadata": {},
   "outputs": [],
   "source": [
    "#Make a validation set\n",
    "x_val_embedding, partial_x_train_embedding = padded_doc_tr[:10000], padded_doc_tr[10000:]\n",
    "y_val_embedding, partial_y_train_embedding = train_Y[:10000], train_Y[10000:]\n",
    "# print(train_Y)\n",
    "# print(len(x_val_embedding))\n",
    "# print(partial_x_train_embedding[0])"
   ]
  },
  {
   "cell_type": "code",
   "execution_count": 40,
   "metadata": {},
   "outputs": [
    {
     "name": "stderr",
     "output_type": "stream",
     "text": [
      "WARNING: Logging before flag parsing goes to stderr.\n",
      "W1121 17:05:06.153689 10156 deprecation.py:323] From C:\\Users\\jarno\\Anaconda3\\lib\\site-packages\\tensorflow_core\\python\\ops\\nn_impl.py:183: where (from tensorflow.python.ops.array_ops) is deprecated and will be removed in a future version.\n",
      "Instructions for updating:\n",
      "Use tf.where in 2.0, which has the same broadcast rule as np.where\n"
     ]
    }
   ],
   "source": [
    "history_w2v, train_acc_w2v, val_acc_w2v, train_loss_w2v, val_loss_w2v, epochs =\\\n",
    "scores(embedded_w2v_model, nr_of_epochs, partial_x_train_embedding,partial_y_train_embedding, x_val_embedding, y_val_embedding)"
   ]
  },
  {
   "cell_type": "code",
   "execution_count": 148,
   "metadata": {},
   "outputs": [
    {
     "data": {
      "image/png": "[encoded data removed]",
      "text/plain": [
       "<Figure size 432x288 with 1 Axes>"
      ]
     },
     "metadata": {},
     "output_type": "display_data"
    }
   ],
   "source": [
    "#plot epochs vs accuracy and loss\n",
    "pd.DataFrame(history_w2v.history).plot(color=['red', 'blue', 'green', 'orange'], linewidth=2);"
   ]
  },
  {
   "cell_type": "markdown",
   "metadata": {},
   "source": [
    "The best amount of epochs seems to be around 5, since the validation loss is fairly small here, while the validation accuracy is high. We will use this to train the final model."
   ]
  },
  {
   "cell_type": "code",
   "execution_count": 43,
   "metadata": {},
   "outputs": [
    {
     "name": "stdout",
     "output_type": "stream",
     "text": [
      "Loss: 0.6631, Accuracy:  0.8131\n",
      "time taken: 340.26997995376587\n"
     ]
    }
   ],
   "source": [
    "#test accuracy & loss\n",
    "start = time.time()\n",
    "embedded_w2v_model.fit(padded_doc_tr, train_Y, epochs=5, batch_size=512, verbose=0)\n",
    "result_w2v = embedded_w2v_model.evaluate(padded_doc_tt, test_Y, verbose = 0);\n",
    "print(\"Loss: {:.4f}, Accuracy:  {:.4f}\".format(*result_w2v))\n",
    "end = time.time()\n",
    "print(\"time taken:\", end - start)"
   ]
  },
  {
   "cell_type": "code",
   "execution_count": 83,
   "metadata": {},
   "outputs": [
    {
     "name": "stdout",
     "output_type": "stream",
     "text": [
      "train accuracy =  0.9993333\n"
     ]
    }
   ],
   "source": [
    "print(\"train accuracy = \",history_w2v.history['accuracy'][4])"
   ]
  },
  {
   "cell_type": "code",
   "execution_count": 72,
   "metadata": {},
   "outputs": [
    {
     "name": "stdout",
     "output_type": "stream",
     "text": [
      "[[10144  2356]\n",
      " [ 2316 10184]]\n"
     ]
    }
   ],
   "source": [
    "w2v_y_pred = embedded_w2v_model.predict(padded_doc_tt, verbose = 0)\n",
    "w2v_y_pred = np.rint(w2v_y_pred)\n",
    "confusion_matrix_w2v = confusion_matrix(test_Y, w2v_y_pred, labels=None, sample_weight=None)\n",
    "print(confusion_matrix_w2v)"
   ]
  },
  {
   "cell_type": "markdown",
   "metadata": {},
   "source": [
    "In comparison to the untuned model from part 1, the model performs slightly worse. The model is somewhat overfitting, as the training accuracy is almost 1 and the test accuracy is significantly lower."
   ]
  },
  {
   "cell_type": "markdown",
   "metadata": {},
   "source": [
    "### Embedding 2 - Glove"
   ]
  },
  {
   "cell_type": "code",
   "execution_count": 45,
   "metadata": {},
   "outputs": [
    {
     "name": "stdout",
     "output_type": "stream",
     "text": [
      "Loaded 400000 word vectors.\n"
     ]
    }
   ],
   "source": [
    "# load the whole embedding into memory\n",
    "embeddings_index_glove = dict()\n",
    "f = open('glove.6B/glove.6B.300d.txt', encoding = \"utf-8\")\n",
    "for line in f:\n",
    "    values = line.split()\n",
    "    word = values[0]\n",
    "    coefs = np.asarray(values[1:], dtype='float32')\n",
    "    embeddings_index_glove[word] = coefs\n",
    "f.close()\n",
    "print('Loaded %s word vectors.' % len(embeddings_index_glove))"
   ]
  },
  {
   "cell_type": "code",
   "execution_count": 46,
   "metadata": {},
   "outputs": [],
   "source": [
    "weight_matrix_tr_glove = weight_matrix(embeddings_index_glove,vsize_tr, tokenizer_tr)"
   ]
  },
  {
   "cell_type": "code",
   "execution_count": 48,
   "metadata": {},
   "outputs": [],
   "source": [
    "#Add glove embedding \n",
    "e_glove = Embedding(vsize_tr, 300,weights=[weight_matrix_tr_glove],input_length=max_length)"
   ]
  },
  {
   "cell_type": "code",
   "execution_count": 49,
   "metadata": {},
   "outputs": [],
   "source": [
    "#these parameter settings are taken from the best model of part 1\n",
    "embedded_glove_model = make_model(n_hidden=1, hidden_size = 8,\n",
    "                       embedding=True, embedding_layer=e_glove, input_shape=(150000,))"
   ]
  },
  {
   "cell_type": "code",
   "execution_count": 50,
   "metadata": {},
   "outputs": [
    {
     "name": "stdout",
     "output_type": "stream",
     "text": [
      "Model: \"sequential_1\"\n",
      "_________________________________________________________________\n",
      "Layer (type)                 Output Shape              Param #   \n",
      "=================================================================\n",
      "embedding_1 (Embedding)      (None, 500, 300)          33661200  \n",
      "_________________________________________________________________\n",
      "flatten_1 (Flatten)          (None, 150000)            0         \n",
      "_________________________________________________________________\n",
      "dense_3 (Dense)              (None, 16)                2400016   \n",
      "_________________________________________________________________\n",
      "dense_4 (Dense)              (None, 8)                 136       \n",
      "_________________________________________________________________\n",
      "dense_5 (Dense)              (None, 1)                 9         \n",
      "=================================================================\n",
      "Total params: 36,061,361\n",
      "Trainable params: 36,061,361\n",
      "Non-trainable params: 0\n",
      "_________________________________________________________________\n"
     ]
    }
   ],
   "source": [
    "embedded_glove_model.summary()"
   ]
  },
  {
   "cell_type": "markdown",
   "metadata": {},
   "source": [
    "### Evaluation Glove"
   ]
  },
  {
   "cell_type": "code",
   "execution_count": 51,
   "metadata": {},
   "outputs": [],
   "source": [
    "history_glove, train_acc_glove, val_acc_glove, train_loss_glove, val_loss_glove, epochs =\\\n",
    "scores(embedded_glove_model, nr_of_epochs, partial_x_train_embedding,partial_y_train_embedding, x_val_embedding, y_val_embedding)"
   ]
  },
  {
   "cell_type": "code",
   "execution_count": 52,
   "metadata": {},
   "outputs": [
    {
     "data": {
      "image/png": "[encoded data removed]",
      "text/plain": [
       "<Figure size 432x288 with 1 Axes>"
      ]
     },
     "metadata": {
      "needs_background": "light"
     },
     "output_type": "display_data"
    }
   ],
   "source": [
    "#plot epochs vs accuracy and loss\n",
    "pd.DataFrame(history_glove.history).plot(color=['red', 'blue', 'green', 'orange'], linewidth=2);"
   ]
  },
  {
   "cell_type": "markdown",
   "metadata": {},
   "source": [
    "The model seemingly starts to overfit from epoch 3, looking at the validation loss. The validation accuracy stagnates around epoch 3 and doesn't become any higher it seems. The training accuracy is still rising at the third epoch. Because it seems best when we look at the validation acuracy and loss, we will use 3 epochs to train the final model."
   ]
  },
  {
   "cell_type": "code",
   "execution_count": 87,
   "metadata": {},
   "outputs": [
    {
     "name": "stdout",
     "output_type": "stream",
     "text": [
      "Loss: 0.8643, Accuracy:  0.7891\n",
      "time taken: 249.96666717529297\n"
     ]
    }
   ],
   "source": [
    "#test accuracy & loss\n",
    "start = time.time()\n",
    "embedded_glove_model.fit(padded_doc_tr, train_Y, epochs=3, batch_size=512, verbose=0)\n",
    "result_glove = embedded_glove_model.evaluate(padded_doc_tt, test_Y, verbose = 0);\n",
    "print(\"Loss: {:.4f}, Accuracy:  {:.4f}\".format(*result_glove))\n",
    "end = time.time()\n",
    "print(\"time taken:\", end - start)"
   ]
  },
  {
   "cell_type": "code",
   "execution_count": 94,
   "metadata": {},
   "outputs": [
    {
     "name": "stdout",
     "output_type": "stream",
     "text": [
      "train accuracy =  0.76666665\n"
     ]
    }
   ],
   "source": [
    "print(\"train accuracy = \",history_glove.history['accuracy'][2])"
   ]
  },
  {
   "cell_type": "code",
   "execution_count": 89,
   "metadata": {},
   "outputs": [
    {
     "name": "stdout",
     "output_type": "stream",
     "text": [
      "[[9809 2691]\n",
      " [2582 9918]]\n"
     ]
    }
   ],
   "source": [
    "glove_y_pred = embedded_glove_model.predict(padded_doc_tt, verbose = 0)\n",
    "glove_y_pred = np.rint(glove_y_pred)\n",
    "confusion_matrix_glove = confusion_matrix(test_Y, glove_y_pred, labels=None, sample_weight=None)\n",
    "print(confusion_matrix_glove)"
   ]
  },
  {
   "cell_type": "markdown",
   "metadata": {},
   "source": [
    "The model performs worse than the models from part 1 and also performoms worse than the the word2vec embedding. What stands out is that the test accuracy is higher than the training accuracy. We do not know why this effect occurs. "
   ]
  },
  {
   "cell_type": "markdown",
   "metadata": {},
   "source": [
    "### Embedding not pre-trained"
   ]
  },
  {
   "cell_type": "code",
   "execution_count": 54,
   "metadata": {},
   "outputs": [],
   "source": [
    "e = Embedding(vsize, 100, input_length=max_length)\n",
    "embedded_w2v_simple_model = make_model(n_hidden=1, hidden_size = 8,\n",
    "                       embedding=True, embedding_layer=e, input_shape=(50000,)) # input_shape = max_length*output_dim embedding layer"
   ]
  },
  {
   "cell_type": "code",
   "execution_count": 55,
   "metadata": {},
   "outputs": [
    {
     "name": "stdout",
     "output_type": "stream",
     "text": [
      "Model: \"sequential_2\"\n",
      "_________________________________________________________________\n",
      "Layer (type)                 Output Shape              Param #   \n",
      "=================================================================\n",
      "embedding_2 (Embedding)      (None, 500, 100)          1000000   \n",
      "_________________________________________________________________\n",
      "flatten_2 (Flatten)          (None, 50000)             0         \n",
      "_________________________________________________________________\n",
      "dense_6 (Dense)              (None, 16)                800016    \n",
      "_________________________________________________________________\n",
      "dense_7 (Dense)              (None, 8)                 136       \n",
      "_________________________________________________________________\n",
      "dense_8 (Dense)              (None, 1)                 9         \n",
      "=================================================================\n",
      "Total params: 1,800,161\n",
      "Trainable params: 1,800,161\n",
      "Non-trainable params: 0\n",
      "_________________________________________________________________\n"
     ]
    }
   ],
   "source": [
    "embedded_w2v_simple_model.summary()"
   ]
  },
  {
   "cell_type": "markdown",
   "metadata": {},
   "source": [
    "### Evaluation embedding not pre-trained"
   ]
  },
  {
   "cell_type": "code",
   "execution_count": 56,
   "metadata": {},
   "outputs": [],
   "source": [
    "history_w2v_simple, train_acc_w2v_simple, val_acc_w2v_simple, train_loss_w2v_simple, val_loss_w2v_simple, epochs =\\\n",
    "scores(embedded_w2v_simple_model, nr_of_epochs, partial_x_train_embedding,partial_y_train_embedding, x_val_embedding, y_val_embedding)"
   ]
  },
  {
   "cell_type": "code",
   "execution_count": 57,
   "metadata": {},
   "outputs": [
    {
     "data": {
      "image/png": "[encoded data removed]",
      "text/plain": [
       "<Figure size 432x288 with 1 Axes>"
      ]
     },
     "metadata": {
      "needs_background": "light"
     },
     "output_type": "display_data"
    }
   ],
   "source": [
    "#plot\n",
    "pd.DataFrame(history_w2v_simple.history).plot(color=['red', 'blue', 'green', 'orange'], linewidth=2);"
   ]
  },
  {
   "cell_type": "markdown",
   "metadata": {},
   "source": [
    "When we look at the validation loss, the models seems to start overfitting from epoch 5 or 6. However when we look at the validation accuracy, it doesn't seem to start overfitting at all, since the validation accuracy stagnates at around 0.8. We will use 4 epochs, since the validation accuracy is at its highest here while the validation loss is at its lowest."
   ]
  },
  {
   "cell_type": "code",
   "execution_count": 59,
   "metadata": {},
   "outputs": [
    {
     "name": "stdout",
     "output_type": "stream",
     "text": [
      "Loss: 0.5221, Accuracy:  0.8482\n",
      "time taken: 46.88496398925781\n"
     ]
    }
   ],
   "source": [
    "start = time.time()\n",
    "embedded_w2v_simple_model.fit(padded_doc_tr, train_Y, epochs=4, batch_size=512, verbose=0)\n",
    "result = embedded_w2v_simple_model.evaluate(padded_doc_tt, test_Y, verbose = 0);\n",
    "print(\"Loss: {:.4f}, Accuracy:  {:.4f}\".format(*result))\n",
    "end = time.time()\n",
    "print(\"time taken:\", end - start)"
   ]
  },
  {
   "cell_type": "code",
   "execution_count": 95,
   "metadata": {},
   "outputs": [
    {
     "name": "stdout",
     "output_type": "stream",
     "text": [
      "train accuracy =  0.88626665\n"
     ]
    }
   ],
   "source": [
    "print(\"train accuracy = \",history_w2v_simple.history['accuracy'][3])"
   ]
  },
  {
   "cell_type": "code",
   "execution_count": 96,
   "metadata": {},
   "outputs": [
    {
     "name": "stdout",
     "output_type": "stream",
     "text": [
      "[[10809  1691]\n",
      " [ 2104 10396]]\n"
     ]
    }
   ],
   "source": [
    "simple_w2v_y_pred = embedded_w2v_simple_model.predict(padded_doc_tt, verbose = 0)\n",
    "simple_w2v_y_pred = np.rint(simple_w2v_y_pred)\n",
    "confusion_matrix_simple_w2v = confusion_matrix(test_Y, simple_w2v_y_pred, labels=None, sample_weight=None)\n",
    "print(confusion_matrix_simple_w2v)"
   ]
  },
  {
   "cell_type": "markdown",
   "metadata": {},
   "source": [
    "The model performs slightly better than than the untuned model from part one, but not better than the tuned model. The model does not seem to over- or underfit. In the next part we will tune this model to see if we can further improve the model."
   ]
  },
  {
   "cell_type": "markdown",
   "metadata": {},
   "source": [
    "## 3. Tuning (20 points) {-}"
   ]
  },
  {
   "cell_type": "markdown",
   "metadata": {},
   "source": [
    "### Word2Vec Tuning - Not pre-trained"
   ]
  },
  {
   "cell_type": "code",
   "execution_count": 126,
   "metadata": {},
   "outputs": [],
   "source": [
    "regularizer_list = [regularizers.l2, regularizers.l1]\n",
    "learning_rates = [0.1, 0.01, 0.001, 0.0001]\n",
    "optimizers = ['adam', 'rmsprop']"
   ]
  },
  {
   "cell_type": "code",
   "execution_count": null,
   "metadata": {},
   "outputs": [],
   "source": [
    "#Grid search\n",
    "opt_dict_emb = {}\n",
    "for r in regularizer_list:\n",
    "    for optimizer in optimizers:\n",
    "        for lr in tqdm_notebook(learning_rates):\n",
    "            model = make_model(n_hidden=n_hidden, hidden_size=hidden_size, input_size=16, \n",
    "                               optimizer=optimizer, regularizer=r(lr),\n",
    "                               embedding = True, embedding_layer = e, input_shape=(150000,))\n",
    "            \n",
    "            opt_dict_emb[(r, optimizer, lr)] = NN_performance(model, partial_x_train_embedding, \n",
    "                                                              partial_y_train_embedding, \n",
    "                                                              x_val_embedding, \n",
    "                                                              y_val_embedding)"
   ]
  },
  {
   "cell_type": "code",
   "execution_count": 70,
   "metadata": {},
   "outputs": [],
   "source": [
    "opt_df_emb = pd.DataFrame.from_dict(opt_dict_emb, orient='index') "
   ]
  },
  {
   "cell_type": "code",
   "execution_count": 72,
   "metadata": {},
   "outputs": [
    {
     "data": {
      "text/html": [
       "<div>\n",
       "<style scoped>\n",
       "    .dataframe tbody tr th:only-of-type {\n",
       "        vertical-align: middle;\n",
       "    }\n",
       "\n",
       "    .dataframe tbody tr th {\n",
       "        vertical-align: top;\n",
       "    }\n",
       "\n",
       "    .dataframe thead th {\n",
       "        text-align: right;\n",
       "    }\n",
       "</style>\n",
       "<table border=\"1\" class=\"dataframe\">\n",
       "  <thead>\n",
       "    <tr style=\"text-align: right;\">\n",
       "      <th></th>\n",
       "      <th></th>\n",
       "      <th></th>\n",
       "      <th>Max_val_acc</th>\n",
       "      <th>Max_val_acc_epochs</th>\n",
       "      <th>Min_val_loss</th>\n",
       "      <th>Min_val_loss_epochs</th>\n",
       "      <th>train_time</th>\n",
       "    </tr>\n",
       "  </thead>\n",
       "  <tbody>\n",
       "    <tr>\n",
       "      <th rowspan=\"8\" valign=\"top\">&lt;function l2 at 0x12fd852f0&gt;</th>\n",
       "      <th rowspan=\"4\" valign=\"top\">adam</th>\n",
       "      <th>1.00e-04</th>\n",
       "      <td>0.90</td>\n",
       "      <td>5</td>\n",
       "      <td>0.32</td>\n",
       "      <td>1</td>\n",
       "      <td>178.36</td>\n",
       "    </tr>\n",
       "    <tr>\n",
       "      <th>1.00e-03</th>\n",
       "      <td>0.90</td>\n",
       "      <td>11</td>\n",
       "      <td>0.27</td>\n",
       "      <td>11</td>\n",
       "      <td>183.38</td>\n",
       "    </tr>\n",
       "    <tr>\n",
       "      <th>1.00e-02</th>\n",
       "      <td>0.91</td>\n",
       "      <td>4</td>\n",
       "      <td>0.29</td>\n",
       "      <td>20</td>\n",
       "      <td>182.14</td>\n",
       "    </tr>\n",
       "    <tr>\n",
       "      <th>1.00e-01</th>\n",
       "      <td>0.93</td>\n",
       "      <td>1</td>\n",
       "      <td>0.47</td>\n",
       "      <td>20</td>\n",
       "      <td>182.43</td>\n",
       "    </tr>\n",
       "    <tr>\n",
       "      <th rowspan=\"4\" valign=\"top\">rmsprop</th>\n",
       "      <th>1.00e-04</th>\n",
       "      <td>0.89</td>\n",
       "      <td>2</td>\n",
       "      <td>0.34</td>\n",
       "      <td>1</td>\n",
       "      <td>175.58</td>\n",
       "    </tr>\n",
       "    <tr>\n",
       "      <th>1.00e-03</th>\n",
       "      <td>0.89</td>\n",
       "      <td>10</td>\n",
       "      <td>0.34</td>\n",
       "      <td>4</td>\n",
       "      <td>177.50</td>\n",
       "    </tr>\n",
       "    <tr>\n",
       "      <th>1.00e-02</th>\n",
       "      <td>0.89</td>\n",
       "      <td>8</td>\n",
       "      <td>0.34</td>\n",
       "      <td>20</td>\n",
       "      <td>177.22</td>\n",
       "    </tr>\n",
       "    <tr>\n",
       "      <th>1.00e-01</th>\n",
       "      <td>0.88</td>\n",
       "      <td>8</td>\n",
       "      <td>0.55</td>\n",
       "      <td>19</td>\n",
       "      <td>176.39</td>\n",
       "    </tr>\n",
       "    <tr>\n",
       "      <th rowspan=\"8\" valign=\"top\">&lt;function l1 at 0x12fd79f28&gt;</th>\n",
       "      <th rowspan=\"4\" valign=\"top\">adam</th>\n",
       "      <th>1.00e-01</th>\n",
       "      <td>0.80</td>\n",
       "      <td>2</td>\n",
       "      <td>9.28</td>\n",
       "      <td>16</td>\n",
       "      <td>181.66</td>\n",
       "    </tr>\n",
       "    <tr>\n",
       "      <th>1.00e-02</th>\n",
       "      <td>0.86</td>\n",
       "      <td>2</td>\n",
       "      <td>1.47</td>\n",
       "      <td>19</td>\n",
       "      <td>182.75</td>\n",
       "    </tr>\n",
       "    <tr>\n",
       "      <th>1.00e-03</th>\n",
       "      <td>0.87</td>\n",
       "      <td>2</td>\n",
       "      <td>0.52</td>\n",
       "      <td>8</td>\n",
       "      <td>180.04</td>\n",
       "    </tr>\n",
       "    <tr>\n",
       "      <th>1.00e-04</th>\n",
       "      <td>0.88</td>\n",
       "      <td>2</td>\n",
       "      <td>0.35</td>\n",
       "      <td>6</td>\n",
       "      <td>178.55</td>\n",
       "    </tr>\n",
       "    <tr>\n",
       "      <th rowspan=\"4\" valign=\"top\">rmsprop</th>\n",
       "      <th>1.00e-01</th>\n",
       "      <td>0.69</td>\n",
       "      <td>2</td>\n",
       "      <td>40.44</td>\n",
       "      <td>18</td>\n",
       "      <td>176.11</td>\n",
       "    </tr>\n",
       "    <tr>\n",
       "      <th>1.00e-02</th>\n",
       "      <td>0.84</td>\n",
       "      <td>5</td>\n",
       "      <td>4.61</td>\n",
       "      <td>18</td>\n",
       "      <td>175.60</td>\n",
       "    </tr>\n",
       "    <tr>\n",
       "      <th>1.00e-03</th>\n",
       "      <td>0.86</td>\n",
       "      <td>1</td>\n",
       "      <td>0.85</td>\n",
       "      <td>18</td>\n",
       "      <td>174.59</td>\n",
       "    </tr>\n",
       "    <tr>\n",
       "      <th>1.00e-04</th>\n",
       "      <td>0.87</td>\n",
       "      <td>1</td>\n",
       "      <td>0.42</td>\n",
       "      <td>6</td>\n",
       "      <td>174.26</td>\n",
       "    </tr>\n",
       "  </tbody>\n",
       "</table>\n",
       "</div>"
      ],
      "text/plain": [
       "                                               Max_val_acc  \\\n",
       "<function l2 at 0x12fd852f0> adam    1.00e-04         0.90   \n",
       "                                     1.00e-03         0.90   \n",
       "                                     1.00e-02         0.91   \n",
       "                                     1.00e-01         0.93   \n",
       "                             rmsprop 1.00e-04         0.89   \n",
       "                                     1.00e-03         0.89   \n",
       "                                     1.00e-02         0.89   \n",
       "                                     1.00e-01         0.88   \n",
       "<function l1 at 0x12fd79f28> adam    1.00e-01         0.80   \n",
       "                                     1.00e-02         0.86   \n",
       "                                     1.00e-03         0.87   \n",
       "                                     1.00e-04         0.88   \n",
       "                             rmsprop 1.00e-01         0.69   \n",
       "                                     1.00e-02         0.84   \n",
       "                                     1.00e-03         0.86   \n",
       "                                     1.00e-04         0.87   \n",
       "\n",
       "                                               Max_val_acc_epochs  \\\n",
       "<function l2 at 0x12fd852f0> adam    1.00e-04                   5   \n",
       "                                     1.00e-03                  11   \n",
       "                                     1.00e-02                   4   \n",
       "                                     1.00e-01                   1   \n",
       "                             rmsprop 1.00e-04                   2   \n",
       "                                     1.00e-03                  10   \n",
       "                                     1.00e-02                   8   \n",
       "                                     1.00e-01                   8   \n",
       "<function l1 at 0x12fd79f28> adam    1.00e-01                   2   \n",
       "                                     1.00e-02                   2   \n",
       "                                     1.00e-03                   2   \n",
       "                                     1.00e-04                   2   \n",
       "                             rmsprop 1.00e-01                   2   \n",
       "                                     1.00e-02                   5   \n",
       "                                     1.00e-03                   1   \n",
       "                                     1.00e-04                   1   \n",
       "\n",
       "                                               Min_val_loss  \\\n",
       "<function l2 at 0x12fd852f0> adam    1.00e-04          0.32   \n",
       "                                     1.00e-03          0.27   \n",
       "                                     1.00e-02          0.29   \n",
       "                                     1.00e-01          0.47   \n",
       "                             rmsprop 1.00e-04          0.34   \n",
       "                                     1.00e-03          0.34   \n",
       "                                     1.00e-02          0.34   \n",
       "                                     1.00e-01          0.55   \n",
       "<function l1 at 0x12fd79f28> adam    1.00e-01          9.28   \n",
       "                                     1.00e-02          1.47   \n",
       "                                     1.00e-03          0.52   \n",
       "                                     1.00e-04          0.35   \n",
       "                             rmsprop 1.00e-01         40.44   \n",
       "                                     1.00e-02          4.61   \n",
       "                                     1.00e-03          0.85   \n",
       "                                     1.00e-04          0.42   \n",
       "\n",
       "                                               Min_val_loss_epochs  train_time  \n",
       "<function l2 at 0x12fd852f0> adam    1.00e-04                    1      178.36  \n",
       "                                     1.00e-03                   11      183.38  \n",
       "                                     1.00e-02                   20      182.14  \n",
       "                                     1.00e-01                   20      182.43  \n",
       "                             rmsprop 1.00e-04                    1      175.58  \n",
       "                                     1.00e-03                    4      177.50  \n",
       "                                     1.00e-02                   20      177.22  \n",
       "                                     1.00e-01                   19      176.39  \n",
       "<function l1 at 0x12fd79f28> adam    1.00e-01                   16      181.66  \n",
       "                                     1.00e-02                   19      182.75  \n",
       "                                     1.00e-03                    8      180.04  \n",
       "                                     1.00e-04                    6      178.55  \n",
       "                             rmsprop 1.00e-01                   18      176.11  \n",
       "                                     1.00e-02                   18      175.60  \n",
       "                                     1.00e-03                   18      174.59  \n",
       "                                     1.00e-04                    6      174.26  "
      ]
     },
     "execution_count": 72,
     "metadata": {},
     "output_type": "execute_result"
    }
   ],
   "source": [
    "opt_df_emb"
   ]
  },
  {
   "cell_type": "markdown",
   "metadata": {},
   "source": [
    "Interpreting the above gridsearch, the best regularizer is L2, with a learning rate of 1e-1. The best optimizer is adam, which is the default in our make_model function. The best amount of epochs for validation accuracy is 1, yet is 20 for validation loss. Therefore, we will plot the accuracy and loss distribution for 20 epochs."
   ]
  },
  {
   "cell_type": "code",
   "execution_count": 154,
   "metadata": {},
   "outputs": [],
   "source": [
    "#Making the optimized model\n",
    "tuning_model = make_model(n_hidden=1, hidden_size = 8,\n",
    "                       embedding=True, embedding_layer=e, input_shape=(50000,), regularizer =  regularizers.l2(1e-1)) # input_shape = max_length*output_dim embedding layer"
   ]
  },
  {
   "cell_type": "code",
   "execution_count": 155,
   "metadata": {},
   "outputs": [],
   "source": [
    "history_tuning, train_acc_tuning, val_acc_tuning, train_loss_tuning, val_loss_tuning, epochs =\\\n",
    "scores(tuning_model, nr_of_epochs, partial_x_train_embedding,partial_y_train_embedding, x_val_embedding, y_val_embedding)"
   ]
  },
  {
   "cell_type": "code",
   "execution_count": 156,
   "metadata": {},
   "outputs": [
    {
     "data": {
      "image/png": "[encoded data removed]",
      "text/plain": [
       "<Figure size 432x288 with 1 Axes>"
      ]
     },
     "metadata": {
      "needs_background": "light"
     },
     "output_type": "display_data"
    }
   ],
   "source": [
    "#plot\n",
    "pd.DataFrame(history_tuning.history).plot(color=['red', 'blue', 'green', 'orange'], linewidth=2);"
   ]
  },
  {
   "cell_type": "markdown",
   "metadata": {},
   "source": [
    "The model seems to have a very stable accuracy for both the training and the validation data. We will use 7 epochs to make the final model, the validation accuracy is quite high here, while the loss is fairly low. The number of epochs is not to high, which is important because of efficiency reasons. Increasing the amount of epochs would only increase fitting time.  "
   ]
  },
  {
   "cell_type": "code",
   "execution_count": 157,
   "metadata": {},
   "outputs": [
    {
     "name": "stdout",
     "output_type": "stream",
     "text": [
      "Loss: 0.5320, Accuracy:  0.8497\n",
      "time taken: 69.17920517921448\n"
     ]
    }
   ],
   "source": [
    "start = time.time()\n",
    "tuning_model.fit(padded_doc_tr, train_Y, epochs=7, batch_size=512, verbose=0)\n",
    "result = tuning_model.evaluate(padded_doc_tt, test_Y, verbose = 0);\n",
    "print(\"Loss: {:.4f}, Accuracy:  {:.4f}\".format(*result))\n",
    "end = time.time()\n",
    "print(\"time taken:\", end - start)"
   ]
  },
  {
   "cell_type": "code",
   "execution_count": 158,
   "metadata": {},
   "outputs": [
    {
     "name": "stdout",
     "output_type": "stream",
     "text": [
      "train accuracy =  0.92586666\n",
      "train accuracy =  0.8771\n"
     ]
    }
   ],
   "source": [
    "print(\"train accuracy = \",history_tuning.history['accuracy'][2])\n",
    "print(\"train accuracy = \",history_tuning.history['val_accuracy'][2])"
   ]
  },
  {
   "cell_type": "code",
   "execution_count": 159,
   "metadata": {},
   "outputs": [
    {
     "name": "stdout",
     "output_type": "stream",
     "text": [
      "[[10620  1880]\n",
      " [ 1878 10622]]\n"
     ]
    }
   ],
   "source": [
    "tuning_y_pred = tuning_model.predict(padded_doc_tt, verbose = 0)\n",
    "tuning_y_pred = np.rint(tuning_y_pred)\n",
    "confusion_tuning = confusion_matrix(test_Y, tuning_y_pred, labels=None, sample_weight=None)\n",
    "print(confusion_tuning)"
   ]
  },
  {
   "cell_type": "markdown",
   "metadata": {},
   "source": [
    "Adding L2 regularization with a learning rate of 1e-1 has a very minimal positive effect on the accuracy (0.8497 versus 0.8482). Next, we will tune the maximum length of the reviews."
   ]
  },
  {
   "cell_type": "markdown",
   "metadata": {},
   "source": [
    "### Tuning max_length"
   ]
  },
  {
   "cell_type": "code",
   "execution_count": 118,
   "metadata": {},
   "outputs": [],
   "source": [
    "max_length_2 = 250\n",
    "padded_doc_tr_2 = pad_sequences(encoded_docs_tr, maxlen =max_length_2, padding='post') #Turns every reviews in a review of max_length\n",
    "padded_doc_tt_2 = pad_sequences(encoded_docs_tt, maxlen =max_length_2, padding='post')"
   ]
  },
  {
   "cell_type": "code",
   "execution_count": 160,
   "metadata": {},
   "outputs": [],
   "source": [
    "e2 = Embedding(vsize, 100, input_length=max_length_2)\n",
    "tuning_length = make_model(n_hidden=1, hidden_size = 8,\n",
    "                       embedding=True, embedding_layer=e2, input_shape=(25000,), regularizer =  regularizers.l2(1e-1)) # input_shape = max_length*output_dim embedding layer"
   ]
  },
  {
   "cell_type": "code",
   "execution_count": 161,
   "metadata": {},
   "outputs": [
    {
     "name": "stdout",
     "output_type": "stream",
     "text": [
      "Loss: 0.6630, Accuracy:  0.8425\n",
      "time taken: 74.40125727653503\n"
     ]
    }
   ],
   "source": [
    "start = time.time()\n",
    "tuning_length.fit(padded_doc_tr_2, train_Y, epochs=7, batch_size=512, verbose=0)\n",
    "result = tuning_length.evaluate(padded_doc_tt_2, test_Y, verbose = 0);\n",
    "print(\"Loss: {:.4f}, Accuracy:  {:.4f}\".format(*result))\n",
    "end = time.time()\n",
    "print(\"time taken:\", end - start)"
   ]
  },
  {
   "cell_type": "code",
   "execution_count": 162,
   "metadata": {},
   "outputs": [
    {
     "name": "stdout",
     "output_type": "stream",
     "text": [
      "[[ 9697  2803]\n",
      " [ 1134 11366]]\n"
     ]
    }
   ],
   "source": [
    "length_y_pred = tuning_length.predict(padded_doc_tt_2, verbose = 0)\n",
    "length_y_pred = np.rint(length_y_pred)\n",
    "confusion_length = confusion_matrix(test_Y, length_y_pred, labels=None, sample_weight=None)\n",
    "print(confusion_length)"
   ]
  },
  {
   "cell_type": "markdown",
   "metadata": {},
   "source": [
    "The accuracy has slightly decreased by lowering the max length. We will further tune the max length by slightly increasing it."
   ]
  },
  {
   "cell_type": "code",
   "execution_count": 178,
   "metadata": {},
   "outputs": [],
   "source": [
    "max_length_3 = 625\n",
    "padded_doc_tr_3 = pad_sequences(encoded_docs_tr, maxlen =max_length_3, padding='post') #Turns every reviews in a review of max_length\n",
    "padded_doc_tt_3 = pad_sequences(encoded_docs_tt, maxlen =max_length_3, padding='post')"
   ]
  },
  {
   "cell_type": "code",
   "execution_count": 172,
   "metadata": {},
   "outputs": [],
   "source": [
    "e3 = Embedding(vsize, 100, input_length=max_length_3)\n",
    "tuning_length_2 = make_model(n_hidden=1, hidden_size = 8,\n",
    "                       embedding=True, embedding_layer=e3, input_shape=(65000,), regularizer =  regularizers.l2(1e-1)) # input_shape = max_length*output_dim embedding layer"
   ]
  },
  {
   "cell_type": "code",
   "execution_count": 179,
   "metadata": {},
   "outputs": [
    {
     "name": "stdout",
     "output_type": "stream",
     "text": [
      "Loss: 0.4536, Accuracy:  0.8491\n",
      "time taken: 124.08481693267822\n"
     ]
    }
   ],
   "source": [
    "start = time.time()\n",
    "tuning_length_2.fit(padded_doc_tr_3, train_Y, epochs=7, batch_size=512, verbose=0)\n",
    "result = tuning_length_2.evaluate(padded_doc_tt_3, test_Y, verbose = 0);\n",
    "print(\"Loss: {:.4f}, Accuracy:  {:.4f}\".format(*result))\n",
    "end = time.time()\n",
    "print(\"time taken:\", end - start)"
   ]
  },
  {
   "cell_type": "code",
   "execution_count": 180,
   "metadata": {},
   "outputs": [
    {
     "name": "stdout",
     "output_type": "stream",
     "text": [
      "[[10572  1928]\n",
      " [ 1844 10656]]\n"
     ]
    }
   ],
   "source": [
    "length_y_pred_2 = tuning_length_2.predict(padded_doc_tt_3, verbose = 0)\n",
    "length_y_pred_2 = np.rint(length_y_pred_2)\n",
    "confusion_length_2 = confusion_matrix(test_Y, length_y_pred_2, labels=None, sample_weight=None)\n",
    "print(confusion_length_2)"
   ]
  },
  {
   "cell_type": "markdown",
   "metadata": {},
   "source": [
    "The accuracy has slightly decreased again, hence we will use max length = 500 for further tuning model. Next, we will tune the vocabulary size."
   ]
  },
  {
   "cell_type": "markdown",
   "metadata": {},
   "source": [
    "### Tuning Vocabulary size"
   ]
  },
  {
   "cell_type": "code",
   "execution_count": 144,
   "metadata": {},
   "outputs": [
    {
     "name": "stdout",
     "output_type": "stream",
     "text": [
      "Amount of unique words 111220\n"
     ]
    }
   ],
   "source": [
    "print(\"Amount of unique words\", round((vsize_tr+vsize_tt)/2))"
   ]
  },
  {
   "cell_type": "markdown",
   "metadata": {},
   "source": [
    "The amount of unique words is 111220, we will first try about half of this to see if the accuracy improves."
   ]
  },
  {
   "cell_type": "code",
   "execution_count": 192,
   "metadata": {},
   "outputs": [],
   "source": [
    "vsize = 50000\n",
    "encoded_docs_tr_2 = [one_hot(d, vsize) for d in X_train2]\n",
    "encoded_docs_tt_2 = [one_hot(d, vsize) for d in X_test2]"
   ]
  },
  {
   "cell_type": "code",
   "execution_count": 193,
   "metadata": {},
   "outputs": [],
   "source": [
    "max_length_2 = 500\n",
    "padded_doc_tr_2 = pad_sequences(encoded_docs_tr_2, maxlen =max_length_2, padding='post') #Turns every reviews in a review of max_length\n",
    "padded_doc_tt_2 = pad_sequences(encoded_docs_tt_2, maxlen =max_length_2, padding='post')"
   ]
  },
  {
   "cell_type": "code",
   "execution_count": 194,
   "metadata": {},
   "outputs": [],
   "source": [
    "e2 = Embedding(vsize, 100, input_length=max_length_2)\n",
    "tuning_vsize = make_model(n_hidden=1, hidden_size = 8,\n",
    "                       embedding=True, embedding_layer=e2, input_shape=(5000000,), regularizer =  regularizers.l2(1e-1)) # input_shape = max_length*output_dim embedding layer"
   ]
  },
  {
   "cell_type": "code",
   "execution_count": 195,
   "metadata": {},
   "outputs": [
    {
     "name": "stdout",
     "output_type": "stream",
     "text": [
      "Loss: 0.6094, Accuracy:  0.8644\n",
      "time taken: 114.11395382881165\n"
     ]
    }
   ],
   "source": [
    "start = time.time()\n",
    "tuning_vsize.fit(padded_doc_tr_2, train_Y, epochs=7, batch_size=512, verbose=0)\n",
    "result = tuning_vsize.evaluate(padded_doc_tt_2, test_Y, verbose = 0);\n",
    "print(\"Loss: {:.4f}, Accuracy:  {:.4f}\".format(*result))\n",
    "end = time.time()\n",
    "print(\"time taken:\", end - start)"
   ]
  },
  {
   "cell_type": "code",
   "execution_count": 196,
   "metadata": {},
   "outputs": [
    {
     "name": "stdout",
     "output_type": "stream",
     "text": [
      "[[10659  1841]\n",
      " [ 1548 10952]]\n"
     ]
    }
   ],
   "source": [
    "vsize_y_pred = tuning_vsize.predict(padded_doc_tt_2, verbose = 0)\n",
    "vsize_y_pred = np.rint(vsize_y_pred)\n",
    "confusion_vsize = confusion_matrix(test_Y, vsize_y_pred, labels=None, sample_weight=None)\n",
    "print(confusion_vsize)"
   ]
  },
  {
   "cell_type": "markdown",
   "metadata": {},
   "source": [
    "The accuracy has slightly improved, we will further increase the vocabulary size to see if we can further improve the model."
   ]
  },
  {
   "cell_type": "code",
   "execution_count": 186,
   "metadata": {},
   "outputs": [],
   "source": [
    "vsize = 100000\n",
    "encoded_docs_tr_2 = [one_hot(d, vsize) for d in X_train2]\n",
    "encoded_docs_tt_2 = [one_hot(d, vsize) for d in X_test2]"
   ]
  },
  {
   "cell_type": "code",
   "execution_count": 187,
   "metadata": {},
   "outputs": [],
   "source": [
    "max_length_2 = 500\n",
    "padded_doc_tr_2 = pad_sequences(encoded_docs_tr_2, maxlen =max_length_2, padding='post') #Turns every reviews in a review of max_length\n",
    "padded_doc_tt_2 = pad_sequences(encoded_docs_tt_2, maxlen =max_length_2, padding='post')"
   ]
  },
  {
   "cell_type": "code",
   "execution_count": 188,
   "metadata": {},
   "outputs": [],
   "source": [
    "e2 = Embedding(vsize, 100, input_length=max_length_2)\n",
    "tuning_vsize_2 = make_model(n_hidden=1, hidden_size = 8,\n",
    "                       embedding=True, embedding_layer=e2, input_shape=(5000000,), regularizer =  regularizers.l2(1e-1)) # input_shape = max_length*output_dim embedding layer"
   ]
  },
  {
   "cell_type": "code",
   "execution_count": 189,
   "metadata": {},
   "outputs": [
    {
     "name": "stdout",
     "output_type": "stream",
     "text": [
      "Loss: 0.6728, Accuracy:  0.8439\n",
      "time taken: 201.9387927055359\n"
     ]
    }
   ],
   "source": [
    "start = time.time()\n",
    "tuning_vsize_2.fit(padded_doc_tr_2, train_Y, epochs=7, batch_size=512, verbose=0)\n",
    "result = tuning_vsize_2.evaluate(padded_doc_tt_2, test_Y, verbose = 0);\n",
    "print(\"Loss: {:.4f}, Accuracy:  {:.4f}\".format(*result))\n",
    "end = time.time()\n",
    "print(\"time taken:\", end - start)"
   ]
  },
  {
   "cell_type": "code",
   "execution_count": 198,
   "metadata": {},
   "outputs": [
    {
     "name": "stdout",
     "output_type": "stream",
     "text": [
      "[[10659  1841]\n",
      " [ 1548 10952]]\n"
     ]
    }
   ],
   "source": [
    "vsize_y_pred = tuning_vsize.predict(padded_doc_tt_2, verbose = 0)\n",
    "vsize_y_pred = np.rint(vsize_y_pred)\n",
    "confusion_vsize = confusion_matrix(test_Y, vsize_y_pred, labels=None, sample_weight=None)\n",
    "print(confusion_vsize)"
   ]
  },
  {
   "cell_type": "markdown",
   "metadata": {},
   "source": [
    "The accuracy has now slighlty decreased again. Therefore, we will use vocabulary size = 50000 for the final model. The final model model will thus have the following hyperparameters:\n",
    "- hidden layers: 1\n",
    "- hidden layer size: 8\n",
    "- regularization: L2\n",
    "- learning rate: 1e-1\n",
    "- Epochs: 7\n",
    "- vocabulary size: 50000\n",
    "- max length: 500\n",
    "\n",
    "This model yields 0.8644 accuracy. In comparison, the untuned embedded model yielded 0.8482 and the tuned model from part 1 yielded 0.8779 accuracy. Overall, tuning the embedded model had almost no effect on accuracy. In addition, the final model has a bigger fitting time and more parameters to train. This could provide issues when the size of the data-set increases. Therefore, it might be better to use the original embedded model over the tuned one when the size of the data-set increases. Furthermore, adding the embedding layer did not have a positive effect on the model from part one. A possible explanation for this could be that the words are integer encoded in part one using TF-IDF and using one-hot encoding in part two and three. Using the TF-IDF encoding in the embedding might further increase performance."
   ]
  },
  {
   "cell_type": "markdown",
   "metadata": {},
   "source": [
    "## 4. Transfer learning (30 points) {-}"
   ]
  },
  {
   "cell_type": "markdown",
   "metadata": {},
   "source": [
    "### Extract the output of the training and test data from the 4th layer"
   ]
  },
  {
   "cell_type": "code",
   "execution_count": null,
   "metadata": {},
   "outputs": [],
   "source": [
    "# Get output of train/test data of the fourth layer in a Sequential model by using keras backend\n",
    "get_4rd_layer_output_test = K.function([embedded_w2v_simple_model.layers[0].input],\n",
    "                                  [embedded_w2v_simple_model.layers[3].output])\n",
    "\n",
    "layer_output_train = get_4rd_layer_output_test(padded_doc_tr)[0]\n",
    "\n",
    "start3= time.time()\n",
    "layer_output_test = get_4rd_layer_output_test(padded_doc_tt)[0]\n",
    "end3 = time.time()\n",
    "time_taken_fitting_test_untill_4th_layer = end3-start3"
   ]
  },
  {
   "cell_type": "markdown",
   "metadata": {},
   "source": [
    "### Evaluation metrics\n",
    "The evaluation metrics which are used to evaluate the models are time and the test score (accuracy). As can be seen in the evaluation of the KNN, the AUC score has been applied aswell. The reason for trying to use the AUC score is that solely basing the performance of the models on accuracy might be trivial, since accuracy works with a certain treshold. The AUC score provides means as an evaluation metric, without being influenced by imbalances of datasets. The accuracy is effected by the imbalancedness of the datasets, in contrary to the AUC score. However, after trying the AUc score, we concluded that the scores are almost the same as the ones from the accuracy scores. A possible reason for this is that our data is perfectly balanced. For this reason, we've only applied the AUC score for evaluation of the KNN and for the others we solely use the speed and accuracy."
   ]
  },
  {
   "cell_type": "markdown",
   "metadata": {},
   "source": [
    "### Logistic Regression"
   ]
  },
  {
   "cell_type": "markdown",
   "metadata": {},
   "source": [
    "#### Motivation\n",
    "The choice to include Logistic Regression is that this algorithm performs generally well with multi dimensional data. Since our new representation of the dataset has multiple values for one x, it can be concluded than many dimensions exits. Also, the outcomes of our dataset are limited and binary, either 0 or 1. Logistic Regression produces outcomes which have only a limited number of possible values, in contrary to Linear Regression. Hence logistic regression is included.\n"
   ]
  },
  {
   "cell_type": "code",
   "execution_count": 63,
   "metadata": {},
   "outputs": [],
   "source": [
    "#Create a first model to see how it performs without any hyperparameter tuning\n",
    "def logistic_regression_scores(penalty='l2', solver='liblinear', c=1):\n",
    "    lr = LogisticRegression()\n",
    "    start = time.time()\n",
    "    lr.fit(layer_output_train, train_Y)\n",
    "    test_score = 'test score: ' + str(lr.score(layer_output_test, test_Y))\n",
    "    train_score = 'train score: ' + str(lr.score(layer_output_train, train_Y))\n",
    "    end = time.time()\n",
    "    time_taken = 'time taken: ' + str(end-start)\n",
    "    return(train_score, test_score, time_taken)"
   ]
  },
  {
   "cell_type": "code",
   "execution_count": 64,
   "metadata": {},
   "outputs": [
    {
     "data": {
      "text/plain": [
       "('train score: 0.99032',\n",
       " 'test score: 0.85828',\n",
       " 'time taken: 0.055879831314086914')"
      ]
     },
     "execution_count": 64,
     "metadata": {},
     "output_type": "execute_result"
    }
   ],
   "source": [
    "logistic_regression_scores()"
   ]
  },
  {
   "cell_type": "markdown",
   "metadata": {},
   "source": [
    "As can be seen above, the accuracy, without tuning, is 0.005 higher than the accuracy of the Neural network from part 2 (which is 0.8535). The hyperparameters will be further tuned in order to see if a higher accuracy can be obtained. Also, the algorithm is fast. It takes less than a second to run."
   ]
  },
  {
   "cell_type": "markdown",
   "metadata": {},
   "source": [
    "#### Random Search\n",
    "To find better hyperparamters, RandomSearch is chosen. Since we do not have an idea of what the grid of optimal hyperparameters could be, we don't use GridSearch here, but RandomSearch. Hyperparameters to optimize are: C value, and the penalty. To limit the running time of the RandomSearch, the number of samples and the population of the C is kept low. A solver coul be added too, however, certain penalties do not work with certain solvers and vice versa. Hence the solvers are excluded in this random search."
   ]
  },
  {
   "cell_type": "code",
   "execution_count": 66,
   "metadata": {},
   "outputs": [
    {
     "name": "stdout",
     "output_type": "stream",
     "text": [
      "RandomizedSearchCV took 0.56 seconds for 1 candidates parameter settings.\n",
      "0.8613602702470312\n"
     ]
    }
   ],
   "source": [
    "# specify parameters and distributions to sample from\n",
    "\n",
    "lr = LogisticRegression()\n",
    "param_dist_svm = {\"C\": np.random.randint(0, 20, 5),\n",
    "              \"penalty\": ['l1', 'l2', 'elasticnet']} # 'none' is excluded since default solver can't handle that penalty.\n",
    "\n",
    "# run randomized search\n",
    "n_iter_search = 1\n",
    "random_search_lr = RandomizedSearchCV(lr, param_distributions=param_dist_svm,\n",
    "                                   n_iter=n_iter_search, cv=3, iid=False)\n",
    "\n",
    "start = time.time()\n",
    "random_search_lr.fit(layer_output_test, test_Y)\n",
    "end = time.time()\n",
    "print(\"RandomizedSearchCV took %.2f seconds for %d candidates\"\n",
    "      \" parameter settings.\" % ((end - start), n_iter_search))\n",
    "\n",
    "print(random_search_lr.best_score_)\n",
    "random_search_parameters_lr = random_search_lr.best_params_"
   ]
  },
  {
   "cell_type": "code",
   "execution_count": 92,
   "metadata": {},
   "outputs": [
    {
     "data": {
      "text/plain": [
       "{'penalty': 'l1', 'C': 14}"
      ]
     },
     "execution_count": 92,
     "metadata": {},
     "output_type": "execute_result"
    }
   ],
   "source": [
    "random_search_parameters_lr"
   ]
  },
  {
   "cell_type": "code",
   "execution_count": 70,
   "metadata": {},
   "outputs": [
    {
     "data": {
      "text/plain": [
       "('train score: 0.99032',\n",
       " 'test score: 0.85828',\n",
       " 'time taken: 0.053394317626953125')"
      ]
     },
     "execution_count": 70,
     "metadata": {},
     "output_type": "execute_result"
    }
   ],
   "source": [
    "logistic_regression_scores(random_search_parameters_lr['penalty'], random_search_parameters_lr['C'])"
   ]
  },
  {
   "cell_type": "markdown",
   "metadata": {},
   "source": [
    "#### Interpretation\n",
    "The accuracy, obtained when putting the results, which are the optimal hyperparameters, from the RandomSearch in the logisticregression model, is the same as the accuracy of the first try with logistic regression. From this we can conclude that the random search did not find a better accuracy by using random search. More options could be included in the hyperparameter parameters. Also, more hyperparameters could be included into the randomsearch, such as a solver. This could improve the accuracy. Also, trying more iterations would probably increase the test score slightly, since more (random) points will be selected in the RandomSearch. \n",
    "However, this algorithm provides an accuracy that is quite close to the one from the NeuralNetwork, which is 0.8535. LogisticRegression is really fast for this dataset, less than a second. Which should be conisdered if other models are not able to incrase the accuracy significantly.\n",
    "\n",
    "The model seems to be overfitting, since the trainscore is almost 1 and the test score is 0.15 lower. Maybe a simpler version of this model could be created in order to battle overfitting. However, according to our randomsearch, the model's train and test score do not change. "
   ]
  },
  {
   "cell_type": "markdown",
   "metadata": {},
   "source": [
    "### Support Vector Machine\n",
    "the second model is based on a support vector machine. The reason for choosing this algorithm is that it scales relatively well to high dimensional data. Furthermore, different kernels can be used to classify data, which is a major advantage of the SVM. Finally, SVMs provide regularization parameters. Which enables us to tweak the model if it tends to overfit on the data."
   ]
  },
  {
   "cell_type": "code",
   "execution_count": 59,
   "metadata": {},
   "outputs": [],
   "source": [
    "#Create function to see the scores of the SVC model with certain hyperparameters\n",
    "def svc_scores(c=1, kernel='rbf', gamma='auto'):\n",
    "    clf = SVC(C=c, kernel=kernel, gamma=gamma)\n",
    "    start = time.time()\n",
    "    clf.fit(layer_output_train, train_Y)\n",
    "    test_score = 'test score: ' + str(clf.score(layer_output_test, test_Y))\n",
    "    train_score = 'train score: ' + str(clf.score(layer_output_train, train_Y))\n",
    "    end = time.time()\n",
    "    time_taken = 'time taken: ' + str(end-start)\n",
    "    return(train_score, test_score, time_taken)"
   ]
  },
  {
   "cell_type": "code",
   "execution_count": 25,
   "metadata": {},
   "outputs": [
    {
     "data": {
      "text/plain": [
       "('train score: 0.9984', 'test score: 0.8474', 'time taken: 0.5065438747406006')"
      ]
     },
     "execution_count": 25,
     "metadata": {},
     "output_type": "execute_result"
    }
   ],
   "source": [
    "#Test without any selection of hyperparameters but the defaults\n",
    "svc_scores()"
   ]
  },
  {
   "cell_type": "markdown",
   "metadata": {},
   "source": [
    "The accuracy score from the NeuralNetwork is 0.8535. This is higher than the first try, which is 0.847. The difference is only 0.05. The algorithm is slower than the logistic regression, however, it is still below one second. Maybe if hyperparameters are tuned, a better accuracy could be achieved."
   ]
  },
  {
   "cell_type": "markdown",
   "metadata": {},
   "source": [
    "#### Random Search\n",
    "To find better hyperparameters, RandomSearch is chosen. Since we do not have an idea of what the grid of optimal hyperparameters could be, we don't use GridSearch here, but RandomSearch. Hyperparameters to optimize are: C value, Kernel, and Gamma. To limit the running time of the RandomSearch, the number of samples and the population of the C and Gamma are decreased to 5 samples out of range 0 to 20. All kernels have been included as parameters for the randomsearch"
   ]
  },
  {
   "cell_type": "code",
   "execution_count": 50,
   "metadata": {},
   "outputs": [
    {
     "name": "stdout",
     "output_type": "stream",
     "text": [
      "RandomizedSearchCV took 280.89 seconds for 1 candidates parameter settings.\n"
     ]
    }
   ],
   "source": [
    "# specify parameters and distributions to sample from\n",
    "\n",
    "svc = SVC()\n",
    "param_dist_svm = {\"C\": np.random.randint(0, 20, 5),\n",
    "              \"kernel\": ['rbf', 'linear', 'poly'],\n",
    "              \"gamma\": np.random.randint(0, 20, 5)}\n",
    "\n",
    "# run randomized search\n",
    "n_iter_search = 1\n",
    "random_search = RandomizedSearchCV(svc, param_distributions=param_dist_svm,\n",
    "                                   n_iter=n_iter_search, cv=3, iid=False)\n",
    "\n",
    "start = time.time()\n",
    "random_search.fit(layer_output_test, test_Y)\n",
    "end = time.time()\n",
    "print(\"RandomizedSearchCV took %.2f seconds for %d candidates\"\n",
    "      \" parameter settings.\" % ((end - start), n_iter_search))"
   ]
  },
  {
   "cell_type": "code",
   "execution_count": 54,
   "metadata": {},
   "outputs": [
    {
     "data": {
      "text/plain": [
       "{'kernel': 'rbf', 'gamma': 3, 'C': 11}"
      ]
     },
     "execution_count": 54,
     "metadata": {},
     "output_type": "execute_result"
    }
   ],
   "source": [
    "random_search.best_params_"
   ]
  },
  {
   "cell_type": "code",
   "execution_count": 98,
   "metadata": {},
   "outputs": [
    {
     "name": "stdout",
     "output_type": "stream",
     "text": [
      "0.8610402670426788\n"
     ]
    },
    {
     "data": {
      "text/plain": [
       "('train score: 0.99056', 'test score: 0.859', 'time taken: 1.3439998626708984')"
      ]
     },
     "execution_count": 98,
     "metadata": {},
     "output_type": "execute_result"
    }
   ],
   "source": [
    "print(random_search.best_score_)\n",
    "random_search_parameters_svc = random_search.best_params_\n",
    "\n",
    "svc_scores(random_search_parameters_svc['C'],random_search_parameters_svc['kernel'], random_search_parameters_svc['gamma'])"
   ]
  },
  {
   "cell_type": "markdown",
   "metadata": {},
   "source": [
    "#### Interpretation\n",
    "The results from the randomsearch state that the rbf kernel with a gamma of 3 and a C value of 11. By inserting these parameters into the SVM, an test score of  0.859 is obtained. This is higher than the first try without the hyperparameter tuning, namely 0.8474. The test accuracy of the SVM with parameter tuning is slightly higher than the one from the NeuralNetwork, higher by 0.012. Which is almost insignificant. \n",
    "\n",
    "The model tends to overfit, since the test score is almost equal to 1. This indicates that the model predicts the training data almost perfectly, while predicting the test data is not as good. The parameters have been tuned to decrease the overfitting, however, the results is quite low.\n",
    "\n",
    "Also, it took 280 seconds, which is almost 5 minutes, to run the randomsearch. More values can be included to the randomsearch for each hyperparameter and the number of iterations could be increased in order to increase the test score. However, since the randomsearch requires quite the computational power, this has not been done.  "
   ]
  },
  {
   "cell_type": "markdown",
   "metadata": {},
   "source": [
    "### KNN"
   ]
  },
  {
   "cell_type": "markdown",
   "metadata": {},
   "source": [
    "The third machine learning algorithm is K nearest neighbors. The reason for this choice is that KNN is easy to implement and robust regarding the search space. For example, classes don't have to be lineary seperable. Also, this algorithm does not have many hyperparameters, which makes it easy to tune it. Furthermore, since KNN does not perform well with imbalanced datasets in general, this dataset is well suited for this algorithm since it is extremely balanced."
   ]
  },
  {
   "cell_type": "code",
   "execution_count": 97,
   "metadata": {},
   "outputs": [
    {
     "name": "stdout",
     "output_type": "stream",
     "text": [
      "train score: 0.99284 test score: 0.8558 time taken: 0.622960090637207\n"
     ]
    }
   ],
   "source": [
    "#KNN\n",
    "def knn_scores(n_neighbors=5, p=2):\n",
    "    \"\"\"n_neighbors is the number of neighbors you would like to insert into the model. in sklearn 5 is default\n",
    "        p is the power parameter for the Minkowski metric. in sklearn 2 is default\"\"\"  \n",
    "    knn = KNeighborsClassifier(n_neighbors=n_neighbors, p=p)\n",
    "    start = time.time()\n",
    "    knn.fit(layer_output_train, train_Y)\n",
    "\n",
    "    test_score = 'test score: ' + str(knn.score(layer_output_test, test_Y))\n",
    "    train_score = 'train score: ' + str(knn.score(layer_output_train, train_Y))\n",
    "    end = time.time()\n",
    "    time_taken = 'time taken: ' + str(end-start)\n",
    "    print(train_score, test_score, time_taken)\n",
    "\n",
    "#Create first model without parameter tuning to see how it performs\n",
    "knn_scores(3)"
   ]
  },
  {
   "cell_type": "markdown",
   "metadata": {},
   "source": [
    "The test score is higher than the test score from the Neural Network, which is 0.8535. However, tuning the parameters (k neigbors and the p value) might increase the accuracy more. The speed of training this model is quite fast. It is slower than the logistic regression but faster than the SVM "
   ]
  },
  {
   "cell_type": "code",
   "execution_count": 99,
   "metadata": {},
   "outputs": [
    {
     "name": "stdout",
     "output_type": "stream",
     "text": [
      "max accuracy: 0.85932\n"
     ]
    },
    {
     "data": {
      "text/plain": [
       "Text(0,0.5,'Accuracy')"
      ]
     },
     "execution_count": 99,
     "metadata": {},
     "output_type": "execute_result"
    },
    {
     "data": {
      "image/png": "[encoded data removed]",
      "text/plain": [
       "<Figure size 576x144 with 1 Axes>"
      ]
     },
     "metadata": {},
     "output_type": "display_data"
    },
    {
     "data": {
      "image/png": "[encoded data removed]",
      "text/plain": [
       "<Figure size 576x144 with 1 Axes>"
      ]
     },
     "metadata": {},
     "output_type": "display_data"
    }
   ],
   "source": [
    "#trying to tune the K value and plot the results:\n",
    "accuracy = []\n",
    "time_taken = []\n",
    "\n",
    "# Calculating accuracy for K values between 1 and 15\n",
    "range_number = 15\n",
    "for i in range(1, range_number):  \n",
    "    #make model\n",
    "    knn = KNeighborsClassifier(n_neighbors=i)\n",
    "\n",
    "    # Train the classifier\n",
    "    start = time.time()\n",
    "    knn.fit(layer_output_train, train_Y)\n",
    "    pred_i = knn.predict(layer_output_test)\n",
    "    end = time.time()\n",
    "    accuracy.append(knn.score(layer_output_test, test_Y))\n",
    "    time_taken.append(end-start)\n",
    "\n",
    "plt.figure(figsize=(8, 2))  \n",
    "plt.plot(range(1, range_number), time_taken, color='green', linestyle='dashed', marker='o',  \n",
    "         markerfacecolor='green', markersize=8)\n",
    "plt.title('Running time')  \n",
    "plt.xlabel('K Value')  \n",
    "plt.ylabel('Time') \n",
    "\n",
    "print('max accuracy: ' + str(max(accuracy)))\n",
    "plt.figure(figsize=(8, 2)) \n",
    "plt.plot(range(1, range_number), accuracy, color='red', linestyle='dashed', marker='o',  \n",
    "         markerfacecolor='red', markersize=8)\n",
    "plt.title('Accuracy for K values')  \n",
    "plt.xlabel('K Value')  \n",
    "plt.ylabel('Accuracy') "
   ]
  },
  {
   "cell_type": "code",
   "execution_count": 102,
   "metadata": {},
   "outputs": [
    {
     "data": {
      "image/png": "[encoded data removed]",
      "text/plain": [
       "<Figure size 432x288 with 2 Axes>"
      ]
     },
     "metadata": {},
     "output_type": "display_data"
    }
   ],
   "source": [
    "#AUC score for every k value, plot these results\n",
    "train_results = []\n",
    "test_results = []\n",
    "\n",
    "range_number = 15\n",
    "for n in range(1, range_number):\n",
    "    model = KNeighborsClassifier(n_neighbors=n)\n",
    "    model.fit(layer_output_train, train_Y)\n",
    "    train_pred = model.predict(layer_output_train)\n",
    "    false_positive_rate, true_positive_rate, thresholds = roc_curve(train_Y, train_pred)\n",
    "    roc_auc = auc(false_positive_rate, true_positive_rate)\n",
    "    train_results.append(roc_auc)\n",
    "    y_pred = model.predict(layer_output_test)\n",
    "    false_positive_rate, true_positive_rate, thresholds = roc_curve(test_Y, y_pred)\n",
    "    roc_auc = auc(false_positive_rate, true_positive_rate)\n",
    "    test_results.append(roc_auc)\n",
    "\n",
    "fig, (axs0, axs1) = plt.subplots(2)\n",
    "fig.suptitle('AUC score')\n",
    "axs0.plot(range(1, range_number), train_results, 'b', marker='o', label= 'Train AUC')\n",
    "axs0.legend()\n",
    "axs1.plot(range(1, range_number), test_results, 'r', marker='o', label= 'Test AUC')\n",
    "plt.ylabel('AUC score')\n",
    "plt.xlabel('n_neighbors')\n",
    "axs1.legend()\n",
    "plt.show()"
   ]
  },
  {
   "cell_type": "code",
   "execution_count": 40,
   "metadata": {},
   "outputs": [
    {
     "name": "stdout",
     "output_type": "stream",
     "text": [
      "max accuracy: 0.85792\n"
     ]
    },
    {
     "data": {
      "text/plain": [
       "Text(0,0.5,'Accuracy')"
      ]
     },
     "execution_count": 40,
     "metadata": {},
     "output_type": "execute_result"
    },
    {
     "data": {
      "image/png": "[encoded data removed]",
      "text/plain": [
       "<Figure size 576x144 with 1 Axes>"
      ]
     },
     "metadata": {},
     "output_type": "display_data"
    },
    {
     "data": {
      "image/png": "[encoded data removed]",
      "text/plain": [
       "<Figure size 576x144 with 1 Axes>"
      ]
     },
     "metadata": {},
     "output_type": "display_data"
    }
   ],
   "source": [
    "#trying to tune the p value and plotting the results in a graph:\n",
    "accuracy = []\n",
    "time_taken = []\n",
    "\n",
    "# Calculating error for p values between 1 and 5\n",
    "range_number = [1, 2, 3, 4, 5]\n",
    "for i in range_number:  \n",
    "    #make model\n",
    "    knn = KNeighborsClassifier(p=i)\n",
    "\n",
    "    # Train the classifier\n",
    "    start = time.time()\n",
    "    knn.fit(layer_output_train, train_Y)\n",
    "    pred_i = knn.predict(layer_output_test)\n",
    "    end = time.time()\n",
    "    accuracy.append(knn.score(layer_output_test, test_Y))\n",
    "    time_taken.append(end-start)\n",
    "\n",
    "plt.figure(figsize=(8, 2))  \n",
    "plt.plot(range_number, time_taken, color='green', linestyle='dashed', marker='o',  \n",
    "         markerfacecolor='green', markersize=8)\n",
    "plt.title('Running time')  \n",
    "plt.xlabel('P value')  \n",
    "plt.ylabel('Time') \n",
    "\n",
    "print('max accuracy: ' + str(max(accuracy)))\n",
    "plt.figure(figsize=(8, 2)) \n",
    "plt.plot(range_number, accuracy, color='red', linestyle='dashed', marker='o',  \n",
    "         markerfacecolor='red', markersize=8)\n",
    "plt.title('Accuracy for P values')  \n",
    "plt.xlabel('P value')  \n",
    "plt.ylabel('Accuracy') "
   ]
  },
  {
   "cell_type": "code",
   "execution_count": 41,
   "metadata": {},
   "outputs": [
    {
     "data": {
      "image/png": "[encoded data removed]",
      "text/plain": [
       "<Figure size 432x288 with 2 Axes>"
      ]
     },
     "metadata": {},
     "output_type": "display_data"
    }
   ],
   "source": [
    "#AUC score for each p value, plotting the results in a graph:\n",
    "distances = [1, 2, 3, 4, 5]\n",
    "train_results = []\n",
    "test_results = []\n",
    "\n",
    "for p in distances:\n",
    "    model = KNeighborsClassifier(p=p)\n",
    "    model.fit(layer_output_train, train_Y)\n",
    "    train_pred = model.predict(layer_output_train)\n",
    "    false_positive_rate, true_positive_rate, thresholds = roc_curve(train_Y, train_pred)\n",
    "    roc_auc = auc(false_positive_rate, true_positive_rate)\n",
    "    train_results.append(roc_auc)\n",
    "    \n",
    "    y_pred = model.predict(layer_output_test)\n",
    "    false_positive_rate, true_positive_rate, thresholds = roc_curve(test_Y, y_pred)\n",
    "    roc_auc = auc(false_positive_rate, true_positive_rate)\n",
    "    test_results.append(roc_auc)\n",
    "\n",
    "fig, (axs0, axs1) = plt.subplots(2)\n",
    "fig.suptitle('AUC score')\n",
    "axs0.plot(distances, train_results, 'b', marker='o', label='Train AUC')\n",
    "axs0.legend()\n",
    "axs1.plot(distances, test_results, 'r', marker='o', label='Test AUC')\n",
    "plt.ylabel('AUC score')\n",
    "plt.xlabel('p value')\n",
    "axs1.legend()\n",
    "plt.show()    "
   ]
  },
  {
   "cell_type": "code",
   "execution_count": 101,
   "metadata": {},
   "outputs": [
    {
     "name": "stdout",
     "output_type": "stream",
     "text": [
      "train score: 0.99104 test score: 0.85932 time taken: 0.7966029644012451\n",
      "train score: 0.99188 test score: 0.85792 time taken: 0.5485329627990723\n",
      "train score: 0.99108 test score: 0.85868 time taken: 0.7101001739501953\n"
     ]
    }
   ],
   "source": [
    "#Take the k value with the highest accuracy and lowest mean error and optimal AUC score for the p value, \n",
    "#according to the graphs above\n",
    "knn_scores(13)\n",
    "knn_scores(p=1)\n",
    "knn_scores(13, 1)"
   ]
  },
  {
   "cell_type": "markdown",
   "metadata": {},
   "source": [
    "#### Interpretation KNN\n",
    "When searching for the optimal hyperparameters for KNN, two approaches have been executed. Firstly, the n_neigbors has been altered. A range of 15 has been examined. The optimal number of neighbors is, according to the accuracy in the graph, 13. However, only using accuracy as evaluation might be trivial. AUC scores have been implemented in order to check for the optimal hyperparameters. However, these generate the same outcomes as the accuracy, namely 13 neigbors. This could be since the dataset is perfectly balanced and AUC score provides more accurate results when the dataset is imbalanced, opposed to the accuracy. Implementing this hyperparameter in a new KNN model yields an accuracy of 0.85932. Which is 0.006 higher than the accuracy of the Neural Network with Embedding. Also, the running time for 13 neigbors is amoung the highest running times.\n",
    "\n",
    "\n",
    "The second parameter, which is to be altered, is the power parameter for the Minkowski metric. The slope of the accuracy and AUC score is decreasing while the p increases. Hence a p of 1 provides the best accuracy. P of 1 is also known as the manhattan_distance. However, when solely using the optimal p value of 1, the test accuracy is 0.85792, which is 0.002 higher than the accuracy score of the Neural Network. Combining both the optimal n_neighbors and p value gives the value of 0.85868. This shows that both optimal points do not necessarily provide the best scores together. Which is the case.\n",
    "\n",
    "In all cases, the KNN model is overfitting, since the train accuracy is close to 1, which indicates that it is perfectly predicting the training data. However, the test accuracy is around 0.86. This difference means that the model is overfitting on the train data. \n",
    "\n",
    "From these results can be concluded that the KNN is slightly better able to classify the test data than the Neural network. However, the difference is too small to be noticed in the predictions. Which leads to the conclusion that KNN is not significantly better to predict than the neural network model."
   ]
  },
  {
   "cell_type": "markdown",
   "metadata": {},
   "source": [
    "### Random Forest"
   ]
  },
  {
   "cell_type": "markdown",
   "metadata": {},
   "source": [
    "The final model that has been included is RandomForest. This model has been chosen since it has many parameters to tune, which could lead to a higher accuracy. Furthermore, this model is easy to execute and it is, in general, quite fast."
   ]
  },
  {
   "cell_type": "code",
   "execution_count": 89,
   "metadata": {},
   "outputs": [],
   "source": [
    "def random_forest_scores(criterion='gini',  max_depth=None, min_samples_split=2, max_features='auto',\n",
    "                               bootstrap=True):\n",
    "    rf = RandomForestClassifier(criterion=criterion, max_depth=max_depth, min_samples_split=min_samples_split, \n",
    "                                max_features=max_features, bootstrap=bootstrap)\n",
    "    start = time.time()\n",
    "    rf.fit(layer_output_train, train_Y)\n",
    "    test_score = 'test score: ' + str(rf.score(layer_output_test, test_Y))\n",
    "    train_score = 'train score: ' + str(rf.score(layer_output_train, train_Y))\n",
    "    end = time.time()\n",
    "    time_taken = 'time taken: ' + str(end-start)\n",
    "    return(train_score, test_score, time_taken)"
   ]
  },
  {
   "cell_type": "code",
   "execution_count": 93,
   "metadata": {},
   "outputs": [
    {
     "data": {
      "text/plain": [
       "('train score: 0.99872', 'test score: 0.8552', 'time taken: 0.277569055557251')"
      ]
     },
     "execution_count": 93,
     "metadata": {},
     "output_type": "execute_result"
    }
   ],
   "source": [
    "#First creation of a randomforest without tuning any parameters\n",
    "random_forest_scores()"
   ]
  },
  {
   "cell_type": "markdown",
   "metadata": {},
   "source": [
    "The test score is 0.8552, which is higher than the NeuralNetwork's score of 0.8535. Furthermore, the time taken is quite low, less than one second. The first model is faster than the KNN and the SVM, but slower than the logistic regression"
   ]
  },
  {
   "cell_type": "markdown",
   "metadata": {},
   "source": [
    "#### RandomSearch\n",
    "To find better hyperparameters, RandomSearch is chosen. Since we do not have an idea of what the grid of optimal hyperparameters could be, we don't use GridSearch here, but RandomSearch. Hyperparameters to optimize are: max_depth, max_features, min_samples_split, bootstrap, and the criterion. To limit the computational intensity of this randomsearch, not all possible parameter values have been included."
   ]
  },
  {
   "cell_type": "code",
   "execution_count": 77,
   "metadata": {},
   "outputs": [
    {
     "name": "stdout",
     "output_type": "stream",
     "text": [
      "RandomizedSearchCV took 2.36 seconds for 1 candidates parameter settings.\n",
      "0.8373999787170172\n"
     ]
    }
   ],
   "source": [
    "rf = RandomForestClassifier()\n",
    "param_dist_svm = {\"max_depth\": [3, None],\n",
    "              \"max_features\": np.random.randint(1, 8, 6), #The max amount of features is 8, since our dataset has 8 features\n",
    "              \"min_samples_split\": np.random.randint(2, 8, 6), #2 is the minimum of a split, hence it starts at 2\n",
    "              \"bootstrap\": [True, False],\n",
    "              \"criterion\": [\"gini\", \"entropy\"]}\n",
    "\n",
    "# run randomized search\n",
    "n_iter_search = 1\n",
    "random_search_rf = RandomizedSearchCV(rf, param_distributions=param_dist_svm,\n",
    "                                   n_iter=n_iter_search, cv=3, iid=False)\n",
    "\n",
    "start = time.time()\n",
    "random_search_rf.fit(layer_output_test, test_Y)\n",
    "end = time.time()\n",
    "print(\"RandomizedSearchCV took %.2f seconds for %d candidates\"\n",
    "      \" parameter settings.\" % ((end - start), n_iter_search))\n",
    "\n",
    "print(random_search_rf.best_score_)\n",
    "random_search_parameters_rf = random_search_rf.best_params_"
   ]
  },
  {
   "cell_type": "code",
   "execution_count": 80,
   "metadata": {},
   "outputs": [
    {
     "data": {
      "text/plain": [
       "{'min_samples_split': 3,\n",
       " 'max_features': 2,\n",
       " 'max_depth': None,\n",
       " 'criterion': 'entropy',\n",
       " 'bootstrap': False}"
      ]
     },
     "execution_count": 80,
     "metadata": {},
     "output_type": "execute_result"
    }
   ],
   "source": [
    "random_search_parameters_rf"
   ]
  },
  {
   "cell_type": "code",
   "execution_count": 90,
   "metadata": {},
   "outputs": [
    {
     "data": {
      "text/plain": [
       "('train score: 1.0', 'test score: 0.85628', 'time taken: 0.502974271774292')"
      ]
     },
     "execution_count": 90,
     "metadata": {},
     "output_type": "execute_result"
    }
   ],
   "source": [
    "random_forest_scores(random_search_parameters_rf['criterion'], random_search_parameters_rf['max_depth'], \n",
    "                     random_search_parameters_rf['min_samples_split'], random_search_parameters_rf['max_features'], \n",
    "                     random_search_parameters_rf['bootstrap'] )"
   ]
  },
  {
   "cell_type": "markdown",
   "metadata": {},
   "source": [
    "##### Adding number of estimators (1000) as extra parameter\n",
    "Another tuning option, which has been included, is the adding number of estimators=1000. Increasing N_estimators means increasing the number of trees in th eforest. Usually, the thigher the number of trees, the better the data is learned. However, adding many more trees will slow down the training process"
   ]
  },
  {
   "cell_type": "code",
   "execution_count": 94,
   "metadata": {},
   "outputs": [
    {
     "name": "stdout",
     "output_type": "stream",
     "text": [
      "RandomizedSearchCV took 192.53 seconds for 1 candidates parameter settings.\n",
      "0.8545198765279766\n"
     ]
    }
   ],
   "source": [
    "rf = RandomForestClassifier(n_estimators=1000)\n",
    "param_dist_svm = {\"max_depth\": [3, None],\n",
    "              \"max_features\": np.random.randint(1, 8, 6), #The max amount of features is 8, since our dataset has 8 features\n",
    "              \"min_samples_split\": np.random.randint(2, 8, 6), #2 is the minimum of a split, hence it starts at 2\n",
    "              \"bootstrap\": [True, False],\n",
    "              \"criterion\": [\"gini\", \"entropy\"]}\n",
    "\n",
    "# run randomized search\n",
    "n_iter_search = 1\n",
    "random_search_rf_estimators = RandomizedSearchCV(rf, param_distributions=param_dist_svm,\n",
    "                                   n_iter=n_iter_search, cv=3, iid=False)\n",
    "\n",
    "start = time.time()\n",
    "random_search_rf_estimators.fit(layer_output_test, test_Y)\n",
    "end = time.time()\n",
    "print(\"RandomizedSearchCV took %.2f seconds for %d candidates\"\n",
    "      \" parameter settings.\" % ((end - start), n_iter_search))\n",
    "\n",
    "print(random_search_rf_estimators.best_score_)\n",
    "random_search_parameters_rf_estimators = random_search_rf_estimators.best_params_"
   ]
  },
  {
   "cell_type": "code",
   "execution_count": 95,
   "metadata": {},
   "outputs": [
    {
     "data": {
      "text/plain": [
       "{'min_samples_split': 6,\n",
       " 'max_features': 4,\n",
       " 'max_depth': None,\n",
       " 'criterion': 'entropy',\n",
       " 'bootstrap': True}"
      ]
     },
     "execution_count": 95,
     "metadata": {},
     "output_type": "execute_result"
    }
   ],
   "source": [
    "random_search_parameters_rf_estimators"
   ]
  },
  {
   "cell_type": "code",
   "execution_count": 96,
   "metadata": {},
   "outputs": [
    {
     "data": {
      "text/plain": [
       "('train score: 0.99744',\n",
       " 'test score: 0.85764',\n",
       " 'time taken: 0.4243755340576172')"
      ]
     },
     "execution_count": 96,
     "metadata": {},
     "output_type": "execute_result"
    }
   ],
   "source": [
    "random_forest_scores(random_search_parameters_rf_estimators['criterion'], random_search_parameters_rf_estimators['max_depth'], \n",
    "                     random_search_parameters_rf_estimators['min_samples_split'], random_search_parameters_rf_estimators['max_features'], \n",
    "                     random_search_parameters_rf_estimators['bootstrap'] )"
   ]
  },
  {
   "cell_type": "markdown",
   "metadata": {},
   "source": [
    "#### Interpretation\n",
    "The randomsearch states that the combination of: min_samples_split=3, max_features=2, max_depth=None, criterion=entropy, and bootstrap=False, yields the best test score. The test score is 0.85628, which is slightly higher than the test score (0.8552) obtained without tuning. Only 0.001 higher to be precise. This indicates that the tuning did improve the accuracy. However, the increase is insignificant. The accuracy of the tuned model is higher than the test score of the NeuralNetwork, which is 0.8535. \n",
    "\n",
    "Another randomsearch has been executed with the addition of having n_estimators=1000. The best combination, obtained via the RandomSearch, consists of: min_samples_split=6, max_features=4, max_depth=None, criterion=entropy, and bootstrap=True. This hyperparameter combinations provides a test score of 0.85764, which is both higher than the accuracy of the model without tuning and the tuned model without n_estmators=100. The test score of the final random forest model is 0.004 higher than the accuracy of the Neural Network. \n",
    "\n",
    "After tuning, the model is still overfitting a bit, since the training score is almost perfect and the test score is around 0.14 lower. Hence tuning the hyperparameters did not combat the overfitting.\n",
    "\n",
    "Possibly, a better hyperparameter combination could be achieved by increasing the number of iterations and/or increasing the (samples of) parameter values for min_samples_split, max_features, and max_depth. However, the increase in the model's accuracy might still be insignificant."
   ]
  },
  {
   "cell_type": "markdown",
   "metadata": {},
   "source": [
    "### Conclusion\n",
    "    Accuracy (test score)\n",
    "    Neural network:      0.8535\n",
    "    logistic regression: 0.85828  \n",
    "    SVM:                 0.85524\n",
    "    KNN:                 0.85932\n",
    "    Random forests:      0.85764\n",
    "    \n",
    "    Time taken (fit&predict)\n",
    "    logistic regression: 0.053394317626953125  \n",
    "    SVM:                 1.3439998626708984\n",
    "    KNN:                 0.7966029644012451\n",
    "    Random forests:      0.4243755340576172\n",
    "\n",
    "From the numbers above can be derived that the KNN has the best test score from all models. However, the differences between all models are significantly low, since the differences are 0.00X.\n",
    "\n",
    "All the models are overfitting, even after tuning the hyperparameters (regularization) to lower the distances between the test and training scores. All the models have an almost perfect training score. A likely explanation for this could be that the neural network already changed the original data in such way that predicting the training data is easy for the other machine learning models, which gives the high training scores. \n",
    "\n",
    "When looking at the training time, bigger differences can be derived. The logistic regression is by far the fastest model created as part of transfer learning. It probably is faster than the final layer of the Neural Network (which is an assumption, since we were not able to measure the speed). If the aim is to build a fast, low training time that is, model, then one should consider using a logistic regression as part of transfer learning with a Neural Network. \n",
    "\n",
    "Creating these models and tuning all the parameters is a lot of work and quite time and computational consuming. The improvements in accuracy are too insignificant for this dataset. In real life, it would take too much time for this small improvement, an improvement you would probably not even notice when prediciting whith that model. A lot of time, which translates to a lot of hourly wages (costs), have been invested in trying to improve the neural network with other models.\n",
    "\n",
    "More tuning could have been done in order to try to obtain better results (faster models/better accuracy). Also, the randomsearch takes random points. This does not have to mean that these points are the best points to be taken. Points being hyperparameters in our case. Different models could have been created in order to check if those are able to predict better, however, this is not done in this assignment due to time constraints.\n",
    "\n",
    "Instead of RandomSearch, bayesian optimization could have been applied to find the optimal hyperparameters for the models. Bayesian optimization is able to combine multiple parameter combinations by using a surrogate model and acquisition function to predict the best outcomes. Because this was part of the previous assignment, which has not been graded yet, hence no feedback provided, bayesian optimization has not been included to prevent using code that does not work properly. \n",
    "\n",
    "To conclude. If a fast model is of great importance, one could consider to implement the logistic regression. Since the test scores are, for all models, almost the same, the accuracy differences are not significantly important enough. If time is related to costs, then we would recommend not to try to tune models, such as KNN/RandomForest/LogisticRegression/SVM, for this dataset. This because it is quite time consuming to find only slight improvements by tuning the hyperparameters of the models.\n",
    "\n",
    "\n",
    "*Food for thought:*\n",
    "\n",
    "Because the assignment stated that we should use the embedded models, we used the best embedded neural network. However, this was not the model with the best accuracy in the assignment. If we would've used the best neural network from assignment one with the tfidf-vectorized data, assignment 4 might've also yielded better results."
   ]
  },
  {
   "cell_type": "markdown",
   "metadata": {},
   "source": [
    "## General notes on the assignment\n",
    "As can be seen that the tuning of hyperparameters (in part 3 and 4) provides minor improvements, adding more data could be beneficial. As many features are used, more data (exponentially more data) will often yield better results, since you are trying to avoid sparseness. "
   ]
  },
  {
   "cell_type": "markdown",
   "metadata": {},
   "source": [
    "## 5. Bonus (5 points) {-}\n",
    "We think that we went 'above and beyond' in this assignment since we've tried many things to obtain the best model: \n",
    "\n",
    "In part 2 we have tried three different embeddings and looked at the difference between one-hot-encoding and the tokenizer text-to-sequence function. One-hot-encoding provided a significant higher accuracy than the latter. This shows that we tried more than was demanded in the assignment. Furthermore, 4 models have been evaluated for transfer learning to check if one would perform better than. "
   ]
  }
 ],
 "metadata": {
  "anaconda-cloud": {},
  "kernelspec": {
   "display_name": "Python 3",
   "language": "python",
   "name": "python3"
  },
  "language_info": {
   "codemirror_mode": {
    "name": "ipython",
    "version": 3
   },
   "file_extension": ".py",
   "mimetype": "text/x-python",
   "name": "python",
   "nbconvert_exporter": "python",
   "pygments_lexer": "ipython3",
   "version": "3.7.3"
  }
 },
 "nbformat": 4,
 "nbformat_minor": 4
}
